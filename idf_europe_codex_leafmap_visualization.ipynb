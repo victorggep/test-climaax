{
 "cells": [
  {
   "cell_type": "code",
   "execution_count": 2,
   "id": "0d5590d2-6ae9-496f-8c4b-0502f13dc8d0",
   "metadata": {},
   "outputs": [
    {
     "name": "stdout",
     "output_type": "stream",
     "text": [
      "Downloading data...\n",
      "Creating palettes...\n",
      "Getting static attributes...\n",
      "Loading images...\n",
      "loading model data...\n",
      "creating user interface...\n"
     ]
    },
    {
     "data": {
      "application/vnd.jupyter.widget-view+json": {
       "model_id": "e76675e3267a49ffb4a17ada1575ebb7",
       "version_major": 2,
       "version_minor": 0
      },
      "text/plain": [
       "VBox(children=(HBox(children=(VBox(children=(HTML(value='<b>Global Climate Model</b>'), Dropdown(layout=Layout…"
      ]
     },
     "execution_count": 2,
     "metadata": {},
     "output_type": "execute_result"
    }
   ],
   "source": [
    "%run idf_europe_cordex_leafmap.ipynb\n",
    "widgets.VBox(WIDGETS_LIST)"
   ]
  },
  {
   "cell_type": "code",
   "execution_count": null,
   "id": "ad27ebb6-2f9a-4c24-8505-72a209b02b4e",
   "metadata": {},
   "outputs": [],
   "source": []
  }
 ],
 "metadata": {
  "kernelspec": {
   "display_name": "Python 3 (ipykernel)",
   "language": "python",
   "name": "python3"
  },
  "language_info": {
   "codemirror_mode": {
    "name": "ipython",
    "version": 3
   },
   "file_extension": ".py",
   "mimetype": "text/x-python",
   "name": "python",
   "nbconvert_exporter": "python",
   "pygments_lexer": "ipython3",
   "version": "3.9.2"
  }
 },
 "nbformat": 4,
 "nbformat_minor": 5
}
