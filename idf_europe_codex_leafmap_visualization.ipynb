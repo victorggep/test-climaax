{
 "cells": [
  {
   "cell_type": "code",
   "execution_count": 1,
   "id": "0d5590d2-6ae9-496f-8c4b-0502f13dc8d0",
   "metadata": {},
   "outputs": [],
   "source": [
    "%run idf_europe_cordex_leafmap.ipynb"
   ]
  },
  {
   "cell_type": "code",
   "execution_count": 2,
   "id": "23c300e3-001b-48df-ae2c-f52e4e2a305f",
   "metadata": {},
   "outputs": [
    {
     "name": "stdout",
     "output_type": "stream",
     "text": [
      "downloading data...\n",
      "creating palettes...\n",
      "getting static attributes...\n",
      "loading images...\n",
      "loading model data...\n",
      "creating user interface...\n"
     ]
    },
    {
     "data": {
      "application/vnd.jupyter.widget-view+json": {
       "model_id": "2da5500579664a8ba7dafada3238bfa6",
       "version_major": 2,
       "version_minor": 0
      },
      "text/plain": [
       "VBox(children=(HBox(children=(VBox(children=(HTML(value='<b>Global Climate Model</b>'), Dropdown(layout=Layout…"
      ]
     },
     "execution_count": 2,
     "metadata": {},
     "output_type": "execute_result"
    }
   ],
   "source": [
    "print('downloading data...')\n",
    "BASEDIR = 'flashflood_workflow'\n",
    "DATADIR = os.path.join(BASEDIR, 'data')\n",
    "os.makedirs(DATADIR, exist_ok=True)\n",
    "# download_data()\n",
    "\n",
    "print('creating palettes...')\n",
    "MAPPABLES = define_palettes()\n",
    "\n",
    "print('getting static attributes...')\n",
    "DURATIONS, FREQUENCIES, MODEL_YEARS, MODEL_GCMS = get_static_attributes()\n",
    "\n",
    "print('loading images...')\n",
    "LAYERS = load_layers()\n",
    "\n",
    "print('loading model data...')\n",
    "MODEL = 'ICHEC-EC-EARTH'\n",
    "DS_MAX, DS_IDF = load_model(MODEL)\n",
    "\n",
    "print('creating user interface...')\n",
    "layers = create_ui()\n",
    "widgets.VBox(layers)"
   ]
  },
  {
   "cell_type": "code",
   "execution_count": null,
   "id": "13ca6eec-4022-4f73-88e7-f895cb38ee5c",
   "metadata": {},
   "outputs": [],
   "source": []
  }
 ],
 "metadata": {
  "kernelspec": {
   "display_name": "Python 3 (ipykernel)",
   "language": "python",
   "name": "python3"
  },
  "language_info": {
   "codemirror_mode": {
    "name": "ipython",
    "version": 3
   },
   "file_extension": ".py",
   "mimetype": "text/x-python",
   "name": "python",
   "nbconvert_exporter": "python",
   "pygments_lexer": "ipython3",
   "version": "3.9.2"
  }
 },
 "nbformat": 4,
 "nbformat_minor": 5
}
