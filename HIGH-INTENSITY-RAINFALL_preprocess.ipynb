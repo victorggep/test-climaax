{
 "cells": [
  {
   "cell_type": "markdown",
   "id": "6c6c2825-5e12-4b42-aadf-78e5a362e351",
   "metadata": {},
   "source": [
    "# High-intensity Rainfall worfklow - Preprocessing\n",
    "The data provided for the visualization workflow of flashfloods has been preprocessed by CRAHI. The steps followed to compute the necessary indicators that afterwards are used for the risk assessment are describe in this workflow."
   ]
  },
  {
   "cell_type": "markdown",
   "id": "40acedfb-860f-43c4-ac1a-d769a47a2ca4",
   "metadata": {},
   "source": [
    "## Hazard assessment methodology <a id=\"methodology\"></a>\n",
    "High intensity rainfall is ...(breif description).\n",
    "\n",
    "The goal is study the evolution and behaviour of annual maxima precipitation for different durations in order to provide the expected intensities for different return periods. (Explain fitting by citing some papers)."
   ]
  },
  {
   "cell_type": "markdown",
   "id": "108dbab2-d866-4219-b8b9-e9f62880f6e5",
   "metadata": {},
   "source": [
    "## Preparation work\n",
    "In this notebook we will use some useful Python libraries:\n",
    "* [cdsapi](https://cds.climate.copernicus.eu/api-how-to) - A library to request data from the datasets listed in the CDS catalogue.\n",
    "* [xarray](https://docs.xarray.dev/en/stable/) -\n",
    "* [numpy](https://numpy.org/doc/stable/) - A powerful library for numerical computations in Python, widely used for array operations and mathematical functions.\n",
    "* [scipy](https://docs.scipy.org/doc/scipy/) - Provides algorithms for optimization, statistics and many other classes of problems.\n",
    "* [matplotlib](https://matplotlib.org/stable/) -  A versatile plotting library in Python, commonly used for creating static, animated, and interactive visualizations."
   ]
  },
  {
   "cell_type": "markdown",
   "id": "2b1b96b7-25fe-43a2-8cec-9768154d8dcc",
   "metadata": {},
   "source": [
    "### Load libraries"
   ]
  },
  {
   "cell_type": "code",
   "execution_count": 200,
   "id": "initial_id",
   "metadata": {
    "ExecuteTime": {
     "end_time": "2023-11-03T09:10:28.212513Z",
     "start_time": "2023-11-03T09:10:20.838132Z"
    },
    "editable": true,
    "slideshow": {
     "slide_type": ""
    },
    "tags": []
   },
   "outputs": [],
   "source": [
    "# Libraries to download data and manage files\n",
    "import os\n",
    "import cdsapi\n",
    "import zipfile\n",
    "\n",
    "# Libraries for numerical computations, array manipulation and statistics.\n",
    "import numpy as np\n",
    "import xarray as xr\n",
    "import scipy.stats as sst\n",
    "\n",
    "# Libraries to handle geospatial data\n",
    "import pyproj\n",
    "import rioxarray as rio\n",
    "\n",
    "# Libraries to plot maps, charts and tables\n",
    "import matplotlib.pyplot as plt\n",
    "from matplotlib.colors import from_levels_and_colors\n",
    "import cartopy.crs as ccrs\n",
    "import cartopy.feature as cfeature\n",
    "from cartopy.util import add_cyclic_point\n",
    "import plotly.express as px\n",
    "import plotly.graph_objs as go\n",
    "%matplotlib inline\n",
    "\n",
    "# Libraries to add interactivity\n",
    "import ipywidgets"
   ]
  },
  {
   "cell_type": "markdown",
   "id": "8c2418bb-f9e1-4241-98fb-04e682a01389",
   "metadata": {},
   "source": [
    "### Setting your directory"
   ]
  },
  {
   "cell_type": "code",
   "execution_count": 55,
   "id": "dfb84c2223acfbe2",
   "metadata": {
    "ExecuteTime": {
     "end_time": "2023-11-03T09:10:31.949592Z",
     "start_time": "2023-11-03T09:10:31.939741Z"
    }
   },
   "outputs": [],
   "source": [
    "# Define the directory for the flashflood workflow preprocess\n",
    "workflow_dir = 'flashflood_workflow'\n",
    "\n",
    "# Define directories for data and results within the previously defined workflow directory\n",
    "data_dir = os.path.join(workflow_dir, 'data')\n",
    "results_dir = os.path.join(workflow_dir, 'results')\n",
    "\n",
    "# Check if the workflow directory exists, if not, create it along with subdirectories for data and results\n",
    "if not os.path.exists(workflow_dir):\n",
    "    os.makedirs(workflow_dir)\n",
    "    os.makedirs(data_dir)\n",
    "    os.makedirs(results_dir)\n"
   ]
  },
  {
   "cell_type": "markdown",
   "id": "e086088a-e0d2-4ec4-b841-d609fff7f454",
   "metadata": {},
   "source": [
    "### Download data\n",
    "The data used to compute the indices for this workflow is available in the [Climate Data Store](https://cds.climate.copernicus.eu/#!/home) (CDS) portal. It is possible to download the data using its API. Learn how to use it [here](https://cds.climate.copernicus.eu/api-how-to).\n",
    "\n",
    "For this example, we will download 30 years of CORDEX precipitation data in a 3h temporal resolution for a particular pair of GCM and RCM and for a specific RCP.\n",
    "\n",
    ":::{note}\n",
    "It is possible to choose another pair of model or scenarios. Feel free to explore the available data for [CORDEX]().\n",
    ":::"
   ]
  },
  {
   "cell_type": "code",
   "execution_count": null,
   "id": "dbad8edb-d5ba-4330-9c1b-c4548c7127b4",
   "metadata": {},
   "outputs": [],
   "source": [
    "# Change the KEY to your own\n",
    "URL = \"https://cds.climate.copernicus.eu/api/v2\"\n",
    "KEY = \"1234\"\n",
    "\n",
    "# Define zip file's absolute path\n",
    "zip_path = os.path.join(data_dir, 'cordex_pr_3h_2041_2070_rcp85.zip')\n",
    "\n",
    "c = cdsapi.Client(url=URL, key=KEY)\n",
    "c.retrieve(\n",
    "        'projections-cordex-domains-single-levels',\n",
    "        {\n",
    "            'format': 'zip',\n",
    "            'domain': 'europe',\n",
    "            'experiment': 'rcp_8_5',\n",
    "            'horizontal_resolution': '0_11_degree_x_0_11_degree',\n",
    "            'temporal_resolution': '3_hours',\n",
    "            'variable': 'mean_precipitation_flux',\n",
    "            'gcm_model': 'ichec_ec_earth',\n",
    "            'rcm_model': 'knmi_racmo22e',\n",
    "            'ensemble_member': 'r1i1p1',\n",
    "            'start_year': ['2041', '2042', '2043', '2044', '2045', '2046',\n",
    "                           '2047', '2048', '2049', '2050', '2051', '2052',\n",
    "                           '2053', '2054', '2055', '2056', '2057', '2058',\n",
    "                           '2059', '2060', '2061', '2062', '2063', '2064',\n",
    "                           '2065', '2066', '2067', '2068', '2069', '2070'],\n",
    "            'end_year': ['2042', '2043', '2044', '2045', '2046',\n",
    "                           '2047', '2048', '2049', '2050', '2051', '2052',\n",
    "                           '2053', '2054', '2055', '2056', '2057', '2058',\n",
    "                           '2059', '2060', '2061', '2062', '2063', '2064',\n",
    "                           '2065', '2066', '2067', '2068', '2069', '2070', '2071'],\n",
    "        },\n",
    "        zip_path)"
   ]
  },
  {
   "cell_type": "markdown",
   "id": "34e7cc58-82e0-4479-9b6e-dd6fb8c90134",
   "metadata": {},
   "source": [
    "Extract the downloaded file to your data directory."
   ]
  },
  {
   "cell_type": "code",
   "execution_count": null,
   "id": "12256101-a5d8-440c-8f1c-f6148a0ff0dd",
   "metadata": {},
   "outputs": [],
   "source": [
    "with zipfile.ZipFile(zip_path, 'r') as zObject:\n",
    "    zObject.extractall(path=data_dir)"
   ]
  },
  {
   "cell_type": "markdown",
   "id": "e186756b-df06-4748-8cd3-d46e7b190a99",
   "metadata": {},
   "source": [
    "## Explore the data\n",
    "The downloaded files from CDS have a certain filename structure to describe the exact dataset each one of them contains:\n",
    "\n",
    "<p style=\"text-align: center;\">variable_domain_gcm_rcp_ensemble_rcm_version_temporal resolution_ start day_end day</p>\n",
    "\n",
    "In this particular case, we would have the following file:\n",
    "<p style=\"text-align: center;\">pr_EUR-11_ICHEC-EC-EARTH_rcp85_r1i1p1_KNMI-RACMO22E_v1_3hr_2041010100-2042010100.nc</p>\n",
    "\n",
    "Load one of the files and explore the content and structure of the dataset. Notice the dimensions, coordinates,  data variables, indexes and attributes as well as the description of the spatial reference system in _rotated_pole()_."
   ]
  },
  {
   "cell_type": "code",
   "execution_count": 5,
   "id": "4e8c619c-289f-4cd1-9fb3-a0a7a3f3fabd",
   "metadata": {},
   "outputs": [
    {
     "data": {
      "text/html": [
       "<div><svg style=\"position: absolute; width: 0; height: 0; overflow: hidden\">\n",
       "<defs>\n",
       "<symbol id=\"icon-database\" viewBox=\"0 0 32 32\">\n",
       "<path d=\"M16 0c-8.837 0-16 2.239-16 5v4c0 2.761 7.163 5 16 5s16-2.239 16-5v-4c0-2.761-7.163-5-16-5z\"></path>\n",
       "<path d=\"M16 17c-8.837 0-16-2.239-16-5v6c0 2.761 7.163 5 16 5s16-2.239 16-5v-6c0 2.761-7.163 5-16 5z\"></path>\n",
       "<path d=\"M16 26c-8.837 0-16-2.239-16-5v6c0 2.761 7.163 5 16 5s16-2.239 16-5v-6c0 2.761-7.163 5-16 5z\"></path>\n",
       "</symbol>\n",
       "<symbol id=\"icon-file-text2\" viewBox=\"0 0 32 32\">\n",
       "<path d=\"M28.681 7.159c-0.694-0.947-1.662-2.053-2.724-3.116s-2.169-2.030-3.116-2.724c-1.612-1.182-2.393-1.319-2.841-1.319h-15.5c-1.378 0-2.5 1.121-2.5 2.5v27c0 1.378 1.122 2.5 2.5 2.5h23c1.378 0 2.5-1.122 2.5-2.5v-19.5c0-0.448-0.137-1.23-1.319-2.841zM24.543 5.457c0.959 0.959 1.712 1.825 2.268 2.543h-4.811v-4.811c0.718 0.556 1.584 1.309 2.543 2.268zM28 29.5c0 0.271-0.229 0.5-0.5 0.5h-23c-0.271 0-0.5-0.229-0.5-0.5v-27c0-0.271 0.229-0.5 0.5-0.5 0 0 15.499-0 15.5 0v7c0 0.552 0.448 1 1 1h7v19.5z\"></path>\n",
       "<path d=\"M23 26h-14c-0.552 0-1-0.448-1-1s0.448-1 1-1h14c0.552 0 1 0.448 1 1s-0.448 1-1 1z\"></path>\n",
       "<path d=\"M23 22h-14c-0.552 0-1-0.448-1-1s0.448-1 1-1h14c0.552 0 1 0.448 1 1s-0.448 1-1 1z\"></path>\n",
       "<path d=\"M23 18h-14c-0.552 0-1-0.448-1-1s0.448-1 1-1h14c0.552 0 1 0.448 1 1s-0.448 1-1 1z\"></path>\n",
       "</symbol>\n",
       "</defs>\n",
       "</svg>\n",
       "<style>/* CSS stylesheet for displaying xarray objects in jupyterlab.\n",
       " *\n",
       " */\n",
       "\n",
       ":root {\n",
       "  --xr-font-color0: var(--jp-content-font-color0, rgba(0, 0, 0, 1));\n",
       "  --xr-font-color2: var(--jp-content-font-color2, rgba(0, 0, 0, 0.54));\n",
       "  --xr-font-color3: var(--jp-content-font-color3, rgba(0, 0, 0, 0.38));\n",
       "  --xr-border-color: var(--jp-border-color2, #e0e0e0);\n",
       "  --xr-disabled-color: var(--jp-layout-color3, #bdbdbd);\n",
       "  --xr-background-color: var(--jp-layout-color0, white);\n",
       "  --xr-background-color-row-even: var(--jp-layout-color1, white);\n",
       "  --xr-background-color-row-odd: var(--jp-layout-color2, #eeeeee);\n",
       "}\n",
       "\n",
       "html[theme=dark],\n",
       "body[data-theme=dark],\n",
       "body.vscode-dark {\n",
       "  --xr-font-color0: rgba(255, 255, 255, 1);\n",
       "  --xr-font-color2: rgba(255, 255, 255, 0.54);\n",
       "  --xr-font-color3: rgba(255, 255, 255, 0.38);\n",
       "  --xr-border-color: #1F1F1F;\n",
       "  --xr-disabled-color: #515151;\n",
       "  --xr-background-color: #111111;\n",
       "  --xr-background-color-row-even: #111111;\n",
       "  --xr-background-color-row-odd: #313131;\n",
       "}\n",
       "\n",
       ".xr-wrap {\n",
       "  display: block !important;\n",
       "  min-width: 300px;\n",
       "  max-width: 700px;\n",
       "}\n",
       "\n",
       ".xr-text-repr-fallback {\n",
       "  /* fallback to plain text repr when CSS is not injected (untrusted notebook) */\n",
       "  display: none;\n",
       "}\n",
       "\n",
       ".xr-header {\n",
       "  padding-top: 6px;\n",
       "  padding-bottom: 6px;\n",
       "  margin-bottom: 4px;\n",
       "  border-bottom: solid 1px var(--xr-border-color);\n",
       "}\n",
       "\n",
       ".xr-header > div,\n",
       ".xr-header > ul {\n",
       "  display: inline;\n",
       "  margin-top: 0;\n",
       "  margin-bottom: 0;\n",
       "}\n",
       "\n",
       ".xr-obj-type,\n",
       ".xr-array-name {\n",
       "  margin-left: 2px;\n",
       "  margin-right: 10px;\n",
       "}\n",
       "\n",
       ".xr-obj-type {\n",
       "  color: var(--xr-font-color2);\n",
       "}\n",
       "\n",
       ".xr-sections {\n",
       "  padding-left: 0 !important;\n",
       "  display: grid;\n",
       "  grid-template-columns: 150px auto auto 1fr 20px 20px;\n",
       "}\n",
       "\n",
       ".xr-section-item {\n",
       "  display: contents;\n",
       "}\n",
       "\n",
       ".xr-section-item input {\n",
       "  display: none;\n",
       "}\n",
       "\n",
       ".xr-section-item input + label {\n",
       "  color: var(--xr-disabled-color);\n",
       "}\n",
       "\n",
       ".xr-section-item input:enabled + label {\n",
       "  cursor: pointer;\n",
       "  color: var(--xr-font-color2);\n",
       "}\n",
       "\n",
       ".xr-section-item input:enabled + label:hover {\n",
       "  color: var(--xr-font-color0);\n",
       "}\n",
       "\n",
       ".xr-section-summary {\n",
       "  grid-column: 1;\n",
       "  color: var(--xr-font-color2);\n",
       "  font-weight: 500;\n",
       "}\n",
       "\n",
       ".xr-section-summary > span {\n",
       "  display: inline-block;\n",
       "  padding-left: 0.5em;\n",
       "}\n",
       "\n",
       ".xr-section-summary-in:disabled + label {\n",
       "  color: var(--xr-font-color2);\n",
       "}\n",
       "\n",
       ".xr-section-summary-in + label:before {\n",
       "  display: inline-block;\n",
       "  content: '►';\n",
       "  font-size: 11px;\n",
       "  width: 15px;\n",
       "  text-align: center;\n",
       "}\n",
       "\n",
       ".xr-section-summary-in:disabled + label:before {\n",
       "  color: var(--xr-disabled-color);\n",
       "}\n",
       "\n",
       ".xr-section-summary-in:checked + label:before {\n",
       "  content: '▼';\n",
       "}\n",
       "\n",
       ".xr-section-summary-in:checked + label > span {\n",
       "  display: none;\n",
       "}\n",
       "\n",
       ".xr-section-summary,\n",
       ".xr-section-inline-details {\n",
       "  padding-top: 4px;\n",
       "  padding-bottom: 4px;\n",
       "}\n",
       "\n",
       ".xr-section-inline-details {\n",
       "  grid-column: 2 / -1;\n",
       "}\n",
       "\n",
       ".xr-section-details {\n",
       "  display: none;\n",
       "  grid-column: 1 / -1;\n",
       "  margin-bottom: 5px;\n",
       "}\n",
       "\n",
       ".xr-section-summary-in:checked ~ .xr-section-details {\n",
       "  display: contents;\n",
       "}\n",
       "\n",
       ".xr-array-wrap {\n",
       "  grid-column: 1 / -1;\n",
       "  display: grid;\n",
       "  grid-template-columns: 20px auto;\n",
       "}\n",
       "\n",
       ".xr-array-wrap > label {\n",
       "  grid-column: 1;\n",
       "  vertical-align: top;\n",
       "}\n",
       "\n",
       ".xr-preview {\n",
       "  color: var(--xr-font-color3);\n",
       "}\n",
       "\n",
       ".xr-array-preview,\n",
       ".xr-array-data {\n",
       "  padding: 0 5px !important;\n",
       "  grid-column: 2;\n",
       "}\n",
       "\n",
       ".xr-array-data,\n",
       ".xr-array-in:checked ~ .xr-array-preview {\n",
       "  display: none;\n",
       "}\n",
       "\n",
       ".xr-array-in:checked ~ .xr-array-data,\n",
       ".xr-array-preview {\n",
       "  display: inline-block;\n",
       "}\n",
       "\n",
       ".xr-dim-list {\n",
       "  display: inline-block !important;\n",
       "  list-style: none;\n",
       "  padding: 0 !important;\n",
       "  margin: 0;\n",
       "}\n",
       "\n",
       ".xr-dim-list li {\n",
       "  display: inline-block;\n",
       "  padding: 0;\n",
       "  margin: 0;\n",
       "}\n",
       "\n",
       ".xr-dim-list:before {\n",
       "  content: '(';\n",
       "}\n",
       "\n",
       ".xr-dim-list:after {\n",
       "  content: ')';\n",
       "}\n",
       "\n",
       ".xr-dim-list li:not(:last-child):after {\n",
       "  content: ',';\n",
       "  padding-right: 5px;\n",
       "}\n",
       "\n",
       ".xr-has-index {\n",
       "  font-weight: bold;\n",
       "}\n",
       "\n",
       ".xr-var-list,\n",
       ".xr-var-item {\n",
       "  display: contents;\n",
       "}\n",
       "\n",
       ".xr-var-item > div,\n",
       ".xr-var-item label,\n",
       ".xr-var-item > .xr-var-name span {\n",
       "  background-color: var(--xr-background-color-row-even);\n",
       "  margin-bottom: 0;\n",
       "}\n",
       "\n",
       ".xr-var-item > .xr-var-name:hover span {\n",
       "  padding-right: 5px;\n",
       "}\n",
       "\n",
       ".xr-var-list > li:nth-child(odd) > div,\n",
       ".xr-var-list > li:nth-child(odd) > label,\n",
       ".xr-var-list > li:nth-child(odd) > .xr-var-name span {\n",
       "  background-color: var(--xr-background-color-row-odd);\n",
       "}\n",
       "\n",
       ".xr-var-name {\n",
       "  grid-column: 1;\n",
       "}\n",
       "\n",
       ".xr-var-dims {\n",
       "  grid-column: 2;\n",
       "}\n",
       "\n",
       ".xr-var-dtype {\n",
       "  grid-column: 3;\n",
       "  text-align: right;\n",
       "  color: var(--xr-font-color2);\n",
       "}\n",
       "\n",
       ".xr-var-preview {\n",
       "  grid-column: 4;\n",
       "}\n",
       "\n",
       ".xr-index-preview {\n",
       "  grid-column: 2 / 5;\n",
       "  color: var(--xr-font-color2);\n",
       "}\n",
       "\n",
       ".xr-var-name,\n",
       ".xr-var-dims,\n",
       ".xr-var-dtype,\n",
       ".xr-preview,\n",
       ".xr-attrs dt {\n",
       "  white-space: nowrap;\n",
       "  overflow: hidden;\n",
       "  text-overflow: ellipsis;\n",
       "  padding-right: 10px;\n",
       "}\n",
       "\n",
       ".xr-var-name:hover,\n",
       ".xr-var-dims:hover,\n",
       ".xr-var-dtype:hover,\n",
       ".xr-attrs dt:hover {\n",
       "  overflow: visible;\n",
       "  width: auto;\n",
       "  z-index: 1;\n",
       "}\n",
       "\n",
       ".xr-var-attrs,\n",
       ".xr-var-data,\n",
       ".xr-index-data {\n",
       "  display: none;\n",
       "  background-color: var(--xr-background-color) !important;\n",
       "  padding-bottom: 5px !important;\n",
       "}\n",
       "\n",
       ".xr-var-attrs-in:checked ~ .xr-var-attrs,\n",
       ".xr-var-data-in:checked ~ .xr-var-data,\n",
       ".xr-index-data-in:checked ~ .xr-index-data {\n",
       "  display: block;\n",
       "}\n",
       "\n",
       ".xr-var-data > table {\n",
       "  float: right;\n",
       "}\n",
       "\n",
       ".xr-var-name span,\n",
       ".xr-var-data,\n",
       ".xr-index-name div,\n",
       ".xr-index-data,\n",
       ".xr-attrs {\n",
       "  padding-left: 25px !important;\n",
       "}\n",
       "\n",
       ".xr-attrs,\n",
       ".xr-var-attrs,\n",
       ".xr-var-data,\n",
       ".xr-index-data {\n",
       "  grid-column: 1 / -1;\n",
       "}\n",
       "\n",
       "dl.xr-attrs {\n",
       "  padding: 0;\n",
       "  margin: 0;\n",
       "  display: grid;\n",
       "  grid-template-columns: 125px auto;\n",
       "}\n",
       "\n",
       ".xr-attrs dt,\n",
       ".xr-attrs dd {\n",
       "  padding: 0;\n",
       "  margin: 0;\n",
       "  float: left;\n",
       "  padding-right: 10px;\n",
       "  width: auto;\n",
       "}\n",
       "\n",
       ".xr-attrs dt {\n",
       "  font-weight: normal;\n",
       "  grid-column: 1;\n",
       "}\n",
       "\n",
       ".xr-attrs dt:hover span {\n",
       "  display: inline-block;\n",
       "  background: var(--xr-background-color);\n",
       "  padding-right: 10px;\n",
       "}\n",
       "\n",
       ".xr-attrs dd {\n",
       "  grid-column: 2;\n",
       "  white-space: pre-wrap;\n",
       "  word-break: break-all;\n",
       "}\n",
       "\n",
       ".xr-icon-database,\n",
       ".xr-icon-file-text2,\n",
       ".xr-no-icon {\n",
       "  display: inline-block;\n",
       "  vertical-align: middle;\n",
       "  width: 1em;\n",
       "  height: 1.5em !important;\n",
       "  stroke-width: 0;\n",
       "  stroke: currentColor;\n",
       "  fill: currentColor;\n",
       "}\n",
       "</style><pre class='xr-text-repr-fallback'>&lt;xarray.Dataset&gt;\n",
       "Dimensions:       (rlon: 424, rlat: 412, time: 2920, bnds: 2)\n",
       "Coordinates:\n",
       "    rotated_pole  |S1 ...\n",
       "  * rlon          (rlon) float64 -28.38 -28.27 -28.16 ... 17.93 18.05 18.16\n",
       "    lon           (rlat, rlon) float64 ...\n",
       "  * rlat          (rlat) float64 -23.38 -23.27 -23.16 ... 21.62 21.73 21.84\n",
       "    lat           (rlat, rlon) float64 ...\n",
       "  * time          (time) datetime64[ns] 2041-01-01T01:30:00 ... 2041-12-31T22...\n",
       "    time_bnds     (time, bnds) datetime64[ns] ...\n",
       "Dimensions without coordinates: bnds\n",
       "Data variables:\n",
       "    pr            (time, rlat, rlon) float32 ...\n",
       "Attributes: (12/25)\n",
       "    Conventions:                    CF-1.4\n",
       "    contact:                        Erik van Meijgaard, KNMI, Regional Climat...\n",
       "    experiment:                     RCP8.5 run\n",
       "    experiment_id:                  rcp85\n",
       "    realization:                    1\n",
       "    driving_experiment:             ICHEC-EC-EARTH,rcp85,r1i1p1\n",
       "    ...                             ...\n",
       "    knmi_model_comment:             RACMO22E: baseline physics from ECMWF CY3...\n",
       "    knmi_version_comment:           v1: reference version for Europe and othe...\n",
       "    knmi_grib_path:                 mos.knmi.nl:/climreg/CXEUR12/eCS6-v441-fE...\n",
       "    creation_date:                  2015-12-10T17:13:36Z\n",
       "    c3s_disclaimer:                 &quot;&quot;\n",
       "    tracking_id:                    hdl:21.14103/157ee1ba-f9ba-4f87-82f2-206f...</pre><div class='xr-wrap' style='display:none'><div class='xr-header'><div class='xr-obj-type'>xarray.Dataset</div></div><ul class='xr-sections'><li class='xr-section-item'><input id='section-c05d1106-1144-4807-b5c3-e3587fa7936c' class='xr-section-summary-in' type='checkbox' disabled ><label for='section-c05d1106-1144-4807-b5c3-e3587fa7936c' class='xr-section-summary'  title='Expand/collapse section'>Dimensions:</label><div class='xr-section-inline-details'><ul class='xr-dim-list'><li><span class='xr-has-index'>rlon</span>: 424</li><li><span class='xr-has-index'>rlat</span>: 412</li><li><span class='xr-has-index'>time</span>: 2920</li><li><span>bnds</span>: 2</li></ul></div><div class='xr-section-details'></div></li><li class='xr-section-item'><input id='section-b4c882f2-e95a-482f-8189-3e64d7c89ee4' class='xr-section-summary-in' type='checkbox'  checked><label for='section-b4c882f2-e95a-482f-8189-3e64d7c89ee4' class='xr-section-summary' >Coordinates: <span>(7)</span></label><div class='xr-section-inline-details'></div><div class='xr-section-details'><ul class='xr-var-list'><li class='xr-var-item'><div class='xr-var-name'><span>rotated_pole</span></div><div class='xr-var-dims'>()</div><div class='xr-var-dtype'>|S1</div><div class='xr-var-preview xr-preview'>...</div><input id='attrs-dd494235-6493-40d3-b802-645b57e33b24' class='xr-var-attrs-in' type='checkbox' ><label for='attrs-dd494235-6493-40d3-b802-645b57e33b24' title='Show/Hide attributes'><svg class='icon xr-icon-file-text2'><use xlink:href='#icon-file-text2'></use></svg></label><input id='data-ca2aaf5d-57fa-4ec5-87e4-7490e778220c' class='xr-var-data-in' type='checkbox'><label for='data-ca2aaf5d-57fa-4ec5-87e4-7490e778220c' title='Show/Hide data repr'><svg class='icon xr-icon-database'><use xlink:href='#icon-database'></use></svg></label><div class='xr-var-attrs'><dl class='xr-attrs'><dt><span>grid_mapping_name :</span></dt><dd>rotated_latitude_longitude</dd><dt><span>grid_north_pole_latitude :</span></dt><dd>39.25</dd><dt><span>grid_north_pole_longitude :</span></dt><dd>-162.0</dd></dl></div><div class='xr-var-data'><pre>[1 values with dtype=|S1]</pre></div></li><li class='xr-var-item'><div class='xr-var-name'><span class='xr-has-index'>rlon</span></div><div class='xr-var-dims'>(rlon)</div><div class='xr-var-dtype'>float64</div><div class='xr-var-preview xr-preview'>-28.38 -28.27 ... 18.05 18.16</div><input id='attrs-77d5e495-d531-4a21-9c2d-a3a801b376aa' class='xr-var-attrs-in' type='checkbox' ><label for='attrs-77d5e495-d531-4a21-9c2d-a3a801b376aa' title='Show/Hide attributes'><svg class='icon xr-icon-file-text2'><use xlink:href='#icon-file-text2'></use></svg></label><input id='data-22a69a11-0169-48dd-955a-1756b495f21c' class='xr-var-data-in' type='checkbox'><label for='data-22a69a11-0169-48dd-955a-1756b495f21c' title='Show/Hide data repr'><svg class='icon xr-icon-database'><use xlink:href='#icon-database'></use></svg></label><div class='xr-var-attrs'><dl class='xr-attrs'><dt><span>axis :</span></dt><dd>X</dd><dt><span>standard_name :</span></dt><dd>grid_longitude</dd><dt><span>long_name :</span></dt><dd>longitude in rotated pole grid</dd><dt><span>units :</span></dt><dd>degrees</dd></dl></div><div class='xr-var-data'><pre>array([-28.375, -28.265, -28.155, ...,  17.935,  18.045,  18.155])</pre></div></li><li class='xr-var-item'><div class='xr-var-name'><span>lon</span></div><div class='xr-var-dims'>(rlat, rlon)</div><div class='xr-var-dtype'>float64</div><div class='xr-var-preview xr-preview'>...</div><input id='attrs-7e905e60-2e06-4987-9054-effe39107e15' class='xr-var-attrs-in' type='checkbox' ><label for='attrs-7e905e60-2e06-4987-9054-effe39107e15' title='Show/Hide attributes'><svg class='icon xr-icon-file-text2'><use xlink:href='#icon-file-text2'></use></svg></label><input id='data-cea7a15e-f194-4bac-a38f-fa030239e609' class='xr-var-data-in' type='checkbox'><label for='data-cea7a15e-f194-4bac-a38f-fa030239e609' title='Show/Hide data repr'><svg class='icon xr-icon-database'><use xlink:href='#icon-database'></use></svg></label><div class='xr-var-attrs'><dl class='xr-attrs'><dt><span>standard_name :</span></dt><dd>longitude</dd><dt><span>long_name :</span></dt><dd>longitude</dd><dt><span>units :</span></dt><dd>degrees_east</dd></dl></div><div class='xr-var-data'><pre>[174688 values with dtype=float64]</pre></div></li><li class='xr-var-item'><div class='xr-var-name'><span class='xr-has-index'>rlat</span></div><div class='xr-var-dims'>(rlat)</div><div class='xr-var-dtype'>float64</div><div class='xr-var-preview xr-preview'>-23.38 -23.27 ... 21.73 21.84</div><input id='attrs-9dab4b88-3e76-42bf-a3fa-ee4994c62be1' class='xr-var-attrs-in' type='checkbox' ><label for='attrs-9dab4b88-3e76-42bf-a3fa-ee4994c62be1' title='Show/Hide attributes'><svg class='icon xr-icon-file-text2'><use xlink:href='#icon-file-text2'></use></svg></label><input id='data-15310992-1108-4a78-b5c7-3e02e960f0b5' class='xr-var-data-in' type='checkbox'><label for='data-15310992-1108-4a78-b5c7-3e02e960f0b5' title='Show/Hide data repr'><svg class='icon xr-icon-database'><use xlink:href='#icon-database'></use></svg></label><div class='xr-var-attrs'><dl class='xr-attrs'><dt><span>axis :</span></dt><dd>Y</dd><dt><span>standard_name :</span></dt><dd>grid_latitude</dd><dt><span>long_name :</span></dt><dd>latitude in rotated pole grid</dd><dt><span>units :</span></dt><dd>degrees</dd></dl></div><div class='xr-var-data'><pre>array([-23.375, -23.265, -23.155, ...,  21.615,  21.725,  21.835])</pre></div></li><li class='xr-var-item'><div class='xr-var-name'><span>lat</span></div><div class='xr-var-dims'>(rlat, rlon)</div><div class='xr-var-dtype'>float64</div><div class='xr-var-preview xr-preview'>...</div><input id='attrs-0662f22f-224f-422f-8cdd-2d9ceffbdba0' class='xr-var-attrs-in' type='checkbox' ><label for='attrs-0662f22f-224f-422f-8cdd-2d9ceffbdba0' title='Show/Hide attributes'><svg class='icon xr-icon-file-text2'><use xlink:href='#icon-file-text2'></use></svg></label><input id='data-3f5a33db-9489-4c54-a997-6bad79c3946d' class='xr-var-data-in' type='checkbox'><label for='data-3f5a33db-9489-4c54-a997-6bad79c3946d' title='Show/Hide data repr'><svg class='icon xr-icon-database'><use xlink:href='#icon-database'></use></svg></label><div class='xr-var-attrs'><dl class='xr-attrs'><dt><span>standard_name :</span></dt><dd>latitude</dd><dt><span>long_name :</span></dt><dd>latitude</dd><dt><span>units :</span></dt><dd>degrees_north</dd></dl></div><div class='xr-var-data'><pre>[174688 values with dtype=float64]</pre></div></li><li class='xr-var-item'><div class='xr-var-name'><span class='xr-has-index'>time</span></div><div class='xr-var-dims'>(time)</div><div class='xr-var-dtype'>datetime64[ns]</div><div class='xr-var-preview xr-preview'>2041-01-01T01:30:00 ... 2041-12-...</div><input id='attrs-cd86167e-0572-476c-822c-55624f67d955' class='xr-var-attrs-in' type='checkbox' ><label for='attrs-cd86167e-0572-476c-822c-55624f67d955' title='Show/Hide attributes'><svg class='icon xr-icon-file-text2'><use xlink:href='#icon-file-text2'></use></svg></label><input id='data-f2bc8b63-5312-46be-8a01-8f44b146c8a1' class='xr-var-data-in' type='checkbox'><label for='data-f2bc8b63-5312-46be-8a01-8f44b146c8a1' title='Show/Hide data repr'><svg class='icon xr-icon-database'><use xlink:href='#icon-database'></use></svg></label><div class='xr-var-attrs'><dl class='xr-attrs'><dt><span>standard_name :</span></dt><dd>time</dd><dt><span>long_name :</span></dt><dd>time</dd></dl></div><div class='xr-var-data'><pre>array([&#x27;2041-01-01T01:30:00.000000000&#x27;, &#x27;2041-01-01T04:30:00.000000000&#x27;,\n",
       "       &#x27;2041-01-01T07:30:00.000000000&#x27;, ..., &#x27;2041-12-31T16:30:00.000000000&#x27;,\n",
       "       &#x27;2041-12-31T19:30:00.000000000&#x27;, &#x27;2041-12-31T22:30:00.000000000&#x27;],\n",
       "      dtype=&#x27;datetime64[ns]&#x27;)</pre></div></li><li class='xr-var-item'><div class='xr-var-name'><span>time_bnds</span></div><div class='xr-var-dims'>(time, bnds)</div><div class='xr-var-dtype'>datetime64[ns]</div><div class='xr-var-preview xr-preview'>...</div><input id='attrs-2147244e-5224-4137-a19b-be50f11bdbf7' class='xr-var-attrs-in' type='checkbox' ><label for='attrs-2147244e-5224-4137-a19b-be50f11bdbf7' title='Show/Hide attributes'><svg class='icon xr-icon-file-text2'><use xlink:href='#icon-file-text2'></use></svg></label><input id='data-53bbf830-0540-4971-b3bd-7bc6af3488e7' class='xr-var-data-in' type='checkbox'><label for='data-53bbf830-0540-4971-b3bd-7bc6af3488e7' title='Show/Hide data repr'><svg class='icon xr-icon-database'><use xlink:href='#icon-database'></use></svg></label><div class='xr-var-attrs'><dl class='xr-attrs'><dt><span>long_name :</span></dt><dd>time bounds</dd></dl></div><div class='xr-var-data'><pre>[5840 values with dtype=datetime64[ns]]</pre></div></li></ul></div></li><li class='xr-section-item'><input id='section-325c58c4-e775-4b9c-9e1e-fa0c2855926d' class='xr-section-summary-in' type='checkbox'  checked><label for='section-325c58c4-e775-4b9c-9e1e-fa0c2855926d' class='xr-section-summary' >Data variables: <span>(1)</span></label><div class='xr-section-inline-details'></div><div class='xr-section-details'><ul class='xr-var-list'><li class='xr-var-item'><div class='xr-var-name'><span>pr</span></div><div class='xr-var-dims'>(time, rlat, rlon)</div><div class='xr-var-dtype'>float32</div><div class='xr-var-preview xr-preview'>...</div><input id='attrs-c22659a7-e4c5-444a-8b30-d21a34b26df6' class='xr-var-attrs-in' type='checkbox' ><label for='attrs-c22659a7-e4c5-444a-8b30-d21a34b26df6' title='Show/Hide attributes'><svg class='icon xr-icon-file-text2'><use xlink:href='#icon-file-text2'></use></svg></label><input id='data-c4ffc811-cec0-40e8-8023-c33e8563244b' class='xr-var-data-in' type='checkbox'><label for='data-c4ffc811-cec0-40e8-8023-c33e8563244b' title='Show/Hide data repr'><svg class='icon xr-icon-database'><use xlink:href='#icon-database'></use></svg></label><div class='xr-var-attrs'><dl class='xr-attrs'><dt><span>standard_name :</span></dt><dd>precipitation_flux</dd><dt><span>long_name :</span></dt><dd>Precipitation</dd><dt><span>units :</span></dt><dd>kg m-2 s-1</dd><dt><span>cell_methods :</span></dt><dd>time: mean</dd></dl></div><div class='xr-var-data'><pre>[510088960 values with dtype=float32]</pre></div></li></ul></div></li><li class='xr-section-item'><input id='section-279ab73c-a4de-40ca-a502-b542953395f9' class='xr-section-summary-in' type='checkbox'  ><label for='section-279ab73c-a4de-40ca-a502-b542953395f9' class='xr-section-summary' >Indexes: <span>(3)</span></label><div class='xr-section-inline-details'></div><div class='xr-section-details'><ul class='xr-var-list'><li class='xr-var-item'><div class='xr-index-name'><div>rlon</div></div><div class='xr-index-preview'>PandasIndex</div><div></div><input id='index-2edc7893-7ee6-414c-8441-ba56e27d4d4b' class='xr-index-data-in' type='checkbox'/><label for='index-2edc7893-7ee6-414c-8441-ba56e27d4d4b' title='Show/Hide index repr'><svg class='icon xr-icon-database'><use xlink:href='#icon-database'></use></svg></label><div class='xr-index-data'><pre>PandasIndex(Index([-28.375, -28.265, -28.155, -28.045, -27.935, -27.825, -27.715, -27.605,\n",
       "       -27.495, -27.385,\n",
       "       ...\n",
       "        17.165,  17.275,  17.385,  17.495,  17.605,  17.715,  17.825,  17.935,\n",
       "        18.045,  18.155],\n",
       "      dtype=&#x27;float64&#x27;, name=&#x27;rlon&#x27;, length=424))</pre></div></li><li class='xr-var-item'><div class='xr-index-name'><div>rlat</div></div><div class='xr-index-preview'>PandasIndex</div><div></div><input id='index-53beaa2e-38d6-4058-85b5-d00b3336cca9' class='xr-index-data-in' type='checkbox'/><label for='index-53beaa2e-38d6-4058-85b5-d00b3336cca9' title='Show/Hide index repr'><svg class='icon xr-icon-database'><use xlink:href='#icon-database'></use></svg></label><div class='xr-index-data'><pre>PandasIndex(Index([           -23.375,            -23.265,            -23.155,\n",
       "                  -23.045,            -22.935,            -22.825,\n",
       "                  -22.715,            -22.605,            -22.495,\n",
       "                  -22.385,\n",
       "       ...\n",
       "                   20.845, 20.955000000000002,             21.065,\n",
       "                   21.175,             21.285,             21.395,\n",
       "                   21.505, 21.615000000000002,             21.725,\n",
       "                   21.835],\n",
       "      dtype=&#x27;float64&#x27;, name=&#x27;rlat&#x27;, length=412))</pre></div></li><li class='xr-var-item'><div class='xr-index-name'><div>time</div></div><div class='xr-index-preview'>PandasIndex</div><div></div><input id='index-855f69c3-bfe3-4b8f-93a1-7ba454ea67fe' class='xr-index-data-in' type='checkbox'/><label for='index-855f69c3-bfe3-4b8f-93a1-7ba454ea67fe' title='Show/Hide index repr'><svg class='icon xr-icon-database'><use xlink:href='#icon-database'></use></svg></label><div class='xr-index-data'><pre>PandasIndex(DatetimeIndex([&#x27;2041-01-01 01:30:00&#x27;, &#x27;2041-01-01 04:30:00&#x27;,\n",
       "               &#x27;2041-01-01 07:30:00&#x27;, &#x27;2041-01-01 10:30:00&#x27;,\n",
       "               &#x27;2041-01-01 13:30:00&#x27;, &#x27;2041-01-01 16:30:00&#x27;,\n",
       "               &#x27;2041-01-01 19:30:00&#x27;, &#x27;2041-01-01 22:30:00&#x27;,\n",
       "               &#x27;2041-01-02 01:30:00&#x27;, &#x27;2041-01-02 04:30:00&#x27;,\n",
       "               ...\n",
       "               &#x27;2041-12-30 19:30:00&#x27;, &#x27;2041-12-30 22:30:00&#x27;,\n",
       "               &#x27;2041-12-31 01:30:00&#x27;, &#x27;2041-12-31 04:30:00&#x27;,\n",
       "               &#x27;2041-12-31 07:30:00&#x27;, &#x27;2041-12-31 10:30:00&#x27;,\n",
       "               &#x27;2041-12-31 13:30:00&#x27;, &#x27;2041-12-31 16:30:00&#x27;,\n",
       "               &#x27;2041-12-31 19:30:00&#x27;, &#x27;2041-12-31 22:30:00&#x27;],\n",
       "              dtype=&#x27;datetime64[ns]&#x27;, name=&#x27;time&#x27;, length=2920, freq=None))</pre></div></li></ul></div></li><li class='xr-section-item'><input id='section-3036f382-f98d-4fc2-8fe7-b82f61335d81' class='xr-section-summary-in' type='checkbox'  ><label for='section-3036f382-f98d-4fc2-8fe7-b82f61335d81' class='xr-section-summary' >Attributes: <span>(25)</span></label><div class='xr-section-inline-details'></div><div class='xr-section-details'><dl class='xr-attrs'><dt><span>Conventions :</span></dt><dd>CF-1.4</dd><dt><span>contact :</span></dt><dd>Erik van Meijgaard, KNMI, Regional Climate division (vanmeijg@knmi.nl)</dd><dt><span>experiment :</span></dt><dd>RCP8.5 run</dd><dt><span>experiment_id :</span></dt><dd>rcp85</dd><dt><span>realization :</span></dt><dd>1</dd><dt><span>driving_experiment :</span></dt><dd>ICHEC-EC-EARTH,rcp85,r1i1p1</dd><dt><span>driving_model_id :</span></dt><dd>ICHEC-EC-EARTH</dd><dt><span>driving_model_ensemble_member :</span></dt><dd>r1i1p1</dd><dt><span>driving_experiment_name :</span></dt><dd>rcp85</dd><dt><span>institution :</span></dt><dd>Royal Netherlands Meteorological Institute, De Bilt, The Netherlands</dd><dt><span>institute_id :</span></dt><dd>KNMI</dd><dt><span>model_id :</span></dt><dd>KNMI-RACMO22E</dd><dt><span>rcm_version_id :</span></dt><dd>v1</dd><dt><span>references :</span></dt><dd>http://www.knmi.nl/research/regional_climate</dd><dt><span>project_id :</span></dt><dd>CORDEX</dd><dt><span>CORDEX_domain :</span></dt><dd>EUR-11</dd><dt><span>product :</span></dt><dd>output</dd><dt><span>frequency :</span></dt><dd>3hr</dd><dt><span>knmi_global_comment :</span></dt><dd></dd><dt><span>knmi_model_comment :</span></dt><dd>RACMO22E: baseline physics from ECMWF CY31r1; modifications include HTESSEL CY33r1, patch K-diffusion CY32r3, moist Turbulent Kinetic Energy, satellite inferred Leaf Area Index</dd><dt><span>knmi_version_comment :</span></dt><dd>v1: reference version for Europe and other midlatitude regions</dd><dt><span>knmi_grib_path :</span></dt><dd>mos.knmi.nl:/climreg/CXEUR12/eCS6-v441-fECEARTH-me81/GRIB_data</dd><dt><span>creation_date :</span></dt><dd>2015-12-10T17:13:36Z</dd><dt><span>c3s_disclaimer :</span></dt><dd>&quot;&quot;</dd><dt><span>tracking_id :</span></dt><dd>hdl:21.14103/157ee1ba-f9ba-4f87-82f2-206f4c273ec0</dd></dl></div></li></ul></div></div>"
      ],
      "text/plain": [
       "<xarray.Dataset>\n",
       "Dimensions:       (rlon: 424, rlat: 412, time: 2920, bnds: 2)\n",
       "Coordinates:\n",
       "    rotated_pole  |S1 ...\n",
       "  * rlon          (rlon) float64 -28.38 -28.27 -28.16 ... 17.93 18.05 18.16\n",
       "    lon           (rlat, rlon) float64 ...\n",
       "  * rlat          (rlat) float64 -23.38 -23.27 -23.16 ... 21.62 21.73 21.84\n",
       "    lat           (rlat, rlon) float64 ...\n",
       "  * time          (time) datetime64[ns] 2041-01-01T01:30:00 ... 2041-12-31T22...\n",
       "    time_bnds     (time, bnds) datetime64[ns] ...\n",
       "Dimensions without coordinates: bnds\n",
       "Data variables:\n",
       "    pr            (time, rlat, rlon) float32 ...\n",
       "Attributes: (12/25)\n",
       "    Conventions:                    CF-1.4\n",
       "    contact:                        Erik van Meijgaard, KNMI, Regional Climat...\n",
       "    experiment:                     RCP8.5 run\n",
       "    experiment_id:                  rcp85\n",
       "    realization:                    1\n",
       "    driving_experiment:             ICHEC-EC-EARTH,rcp85,r1i1p1\n",
       "    ...                             ...\n",
       "    knmi_model_comment:             RACMO22E: baseline physics from ECMWF CY3...\n",
       "    knmi_version_comment:           v1: reference version for Europe and othe...\n",
       "    knmi_grib_path:                 mos.knmi.nl:/climreg/CXEUR12/eCS6-v441-fE...\n",
       "    creation_date:                  2015-12-10T17:13:36Z\n",
       "    c3s_disclaimer:                 \"\"\n",
       "    tracking_id:                    hdl:21.14103/157ee1ba-f9ba-4f87-82f2-206f..."
      ]
     },
     "execution_count": 5,
     "metadata": {},
     "output_type": "execute_result"
    }
   ],
   "source": [
    "# Define the absolute path for a specific file\n",
    "filename_precipitation_example = os.path.join(data_dir,\n",
    "                        'pr_EUR-11_ICHEC-EC-EARTH_rcp85_r1i1p1_KNMI-RACMO22E_v1_3hr_2041010100-2042010100.nc')\n",
    "\n",
    "\n",
    "\n",
    "# Open the netCDF file using xarray as a dataset\n",
    "dataset_precipitation_example = xr.open_dataset(filename_precipitation_example, decode_coords = 'all')\n",
    "\n",
    "# Display said dataset\n",
    "dataset_precipitation_example"
   ]
  },
  {
   "cell_type": "markdown",
   "id": "b69d80c2-ca79-4fa4-ace1-3cf3062e4819",
   "metadata": {},
   "source": [
    "## Process the data\n",
    "As explained in the [methodology](#methodology) chapter, the goal of this workflow is to study the changes of extreme rainfall events. To do so, the following steps have been followed:\n",
    "1. Extract the annual maximum rainfall for specific durations and save the new temporal series.\n",
    "2. Fit the 30-year series of maximum annual rainfall into a probability distribution.\n",
    "3. Compute the expected intensities for each duration and return period.\n",
    "\n",
    ":::{attention}\n",
    "Remember that this is a simplified version of how the provided files for the visualization workflow have been computed and assembled. For each step, both code and results are shown for a specific area in order to minimize the execution time.\n",
    ":::"
   ]
  },
  {
   "cell_type": "markdown",
   "id": "6b5caa01-9272-4959-8716-90b2b1fa8a74",
   "metadata": {},
   "source": [
    "### Step 1. Temporal series of annual maximum rainfall\n",
    "As the CORDEX data for precipitation is available in a 3 hour temporal step, it is possible to compute the annual maxima for 3h, 6h, 12h and other 3h-multiple durations.\n",
    "Some important functions from the ```xarray``` library are used:\n",
    "* ```sel``` to select certain indexes of the dataset/dataarray by value.\n",
    "* ```open_mfdataset``` to open netCDF files.\n",
    "* ```rolling``` to roll over a dataarray within a specific dimension to apply an operation.\n",
    "* ```to_netcdf``` to save dataset/dataaray as netcdf.\n",
    "* ```resample``` to group by year for performing an operation.\n",
    "\n",
    "In addition, the ```rioxarray``` library is used to properly write the coordinate reference system (CRS) so that the new files can be well visualized with a GIS application.\n",
    "\n",
    ":::{warning}\n",
    "This could take some time due to the large dataset the script is handling.\n",
    ":::"
   ]
  },
  {
   "cell_type": "code",
   "execution_count": 84,
   "id": "9804c92a-bb30-4a5d-a4c6-05f21d939462",
   "metadata": {},
   "outputs": [],
   "source": [
    "# Auxiliary function to slice each dataset to a particular region (CATALONIA) with rotated coordinates.\n",
    "def cut_to_region(ds):\n",
    "    ds = ds.sel(rlat = slice(-9,-7), rlon = slice(-13,-11))\n",
    "    return ds\n",
    "    \n",
    "# Open the 30 files as a single dataset using a preprocess function.\n",
    "dataset_prec = xr.open_mfdataset(f'{data_dir}/pr_EUR_*.nc', decode_coords='all', preprocess=cut_to_region)\n",
    "\n",
    "# Define the CRS\n",
    "rotated_pole = ccrs.RotatedPole(pole_latitude=39.25, pole_longitude=-162)\n",
    "# Write the CRS into the dataset\n",
    "dataset_prec.rio.write_crs(rotated_pole, inplace=True)\n",
    "\n",
    "# Units of pr variable are kg m-2 s-1. Need to convert to mm.\n",
    "dataarray_prec = dataset_prec['pr']*3600*3\n",
    "# Assign the new units to the variable\n",
    "dataarray_prec.attrs['units'] = 'mm'"
   ]
  },
  {
   "cell_type": "code",
   "execution_count": null,
   "id": "d33be0df-21c6-477e-bb0c-9ff290af6893",
   "metadata": {},
   "outputs": [],
   "source": [
    "# For every duration (3h, 6h, 12h), compute the annual maximum and save as a new netCDF file.\n",
    "# for duration in [3, 6, 12]:\n",
    "for duration in [3]:\n",
    "    # longitude of window to roll the DataSet\n",
    "    window = int(duration/3)\n",
    "    # Create new DataArray with annual maxima\n",
    "    dataarray_prec_aux = dataarray_prec.rolling(time=window).sum().resample(time = 'YS').max(keep_attrs=True)\n",
    "    # Assign new 'duration' dimension to save this information and rename variable\n",
    "    dataarray_prec_aux = dataarray_prec_aux.expand_dims(dim = {'duration': [duration]}, axis = 0).rename('pr_max')\n",
    "    # Define name of new netCDF file\n",
    "    filename_aux = f'pr_{duration}h_annual_maximum_2041_2070.nc'\n",
    "    # Save to your results' directory as a netCDF\n",
    "    dataarray_prec_aux.to_netcdf(os.path.join(data_dir, filename_aux))\n",
    "    "
   ]
  },
  {
   "cell_type": "markdown",
   "id": "1898dc39-be32-440a-bb73-9e99697933d3",
   "metadata": {},
   "source": [
    "Let us have a look at one of the files just created. Note the new dimension ```duration``` and that now there is only 30 values for ```time```."
   ]
  },
  {
   "cell_type": "code",
   "execution_count": 181,
   "id": "10236290-6e5d-4092-8c95-ac9a466ae514",
   "metadata": {},
   "outputs": [
    {
     "data": {
      "text/html": [
       "<div><svg style=\"position: absolute; width: 0; height: 0; overflow: hidden\">\n",
       "<defs>\n",
       "<symbol id=\"icon-database\" viewBox=\"0 0 32 32\">\n",
       "<path d=\"M16 0c-8.837 0-16 2.239-16 5v4c0 2.761 7.163 5 16 5s16-2.239 16-5v-4c0-2.761-7.163-5-16-5z\"></path>\n",
       "<path d=\"M16 17c-8.837 0-16-2.239-16-5v6c0 2.761 7.163 5 16 5s16-2.239 16-5v-6c0 2.761-7.163 5-16 5z\"></path>\n",
       "<path d=\"M16 26c-8.837 0-16-2.239-16-5v6c0 2.761 7.163 5 16 5s16-2.239 16-5v-6c0 2.761-7.163 5-16 5z\"></path>\n",
       "</symbol>\n",
       "<symbol id=\"icon-file-text2\" viewBox=\"0 0 32 32\">\n",
       "<path d=\"M28.681 7.159c-0.694-0.947-1.662-2.053-2.724-3.116s-2.169-2.030-3.116-2.724c-1.612-1.182-2.393-1.319-2.841-1.319h-15.5c-1.378 0-2.5 1.121-2.5 2.5v27c0 1.378 1.122 2.5 2.5 2.5h23c1.378 0 2.5-1.122 2.5-2.5v-19.5c0-0.448-0.137-1.23-1.319-2.841zM24.543 5.457c0.959 0.959 1.712 1.825 2.268 2.543h-4.811v-4.811c0.718 0.556 1.584 1.309 2.543 2.268zM28 29.5c0 0.271-0.229 0.5-0.5 0.5h-23c-0.271 0-0.5-0.229-0.5-0.5v-27c0-0.271 0.229-0.5 0.5-0.5 0 0 15.499-0 15.5 0v7c0 0.552 0.448 1 1 1h7v19.5z\"></path>\n",
       "<path d=\"M23 26h-14c-0.552 0-1-0.448-1-1s0.448-1 1-1h14c0.552 0 1 0.448 1 1s-0.448 1-1 1z\"></path>\n",
       "<path d=\"M23 22h-14c-0.552 0-1-0.448-1-1s0.448-1 1-1h14c0.552 0 1 0.448 1 1s-0.448 1-1 1z\"></path>\n",
       "<path d=\"M23 18h-14c-0.552 0-1-0.448-1-1s0.448-1 1-1h14c0.552 0 1 0.448 1 1s-0.448 1-1 1z\"></path>\n",
       "</symbol>\n",
       "</defs>\n",
       "</svg>\n",
       "<style>/* CSS stylesheet for displaying xarray objects in jupyterlab.\n",
       " *\n",
       " */\n",
       "\n",
       ":root {\n",
       "  --xr-font-color0: var(--jp-content-font-color0, rgba(0, 0, 0, 1));\n",
       "  --xr-font-color2: var(--jp-content-font-color2, rgba(0, 0, 0, 0.54));\n",
       "  --xr-font-color3: var(--jp-content-font-color3, rgba(0, 0, 0, 0.38));\n",
       "  --xr-border-color: var(--jp-border-color2, #e0e0e0);\n",
       "  --xr-disabled-color: var(--jp-layout-color3, #bdbdbd);\n",
       "  --xr-background-color: var(--jp-layout-color0, white);\n",
       "  --xr-background-color-row-even: var(--jp-layout-color1, white);\n",
       "  --xr-background-color-row-odd: var(--jp-layout-color2, #eeeeee);\n",
       "}\n",
       "\n",
       "html[theme=dark],\n",
       "body[data-theme=dark],\n",
       "body.vscode-dark {\n",
       "  --xr-font-color0: rgba(255, 255, 255, 1);\n",
       "  --xr-font-color2: rgba(255, 255, 255, 0.54);\n",
       "  --xr-font-color3: rgba(255, 255, 255, 0.38);\n",
       "  --xr-border-color: #1F1F1F;\n",
       "  --xr-disabled-color: #515151;\n",
       "  --xr-background-color: #111111;\n",
       "  --xr-background-color-row-even: #111111;\n",
       "  --xr-background-color-row-odd: #313131;\n",
       "}\n",
       "\n",
       ".xr-wrap {\n",
       "  display: block !important;\n",
       "  min-width: 300px;\n",
       "  max-width: 700px;\n",
       "}\n",
       "\n",
       ".xr-text-repr-fallback {\n",
       "  /* fallback to plain text repr when CSS is not injected (untrusted notebook) */\n",
       "  display: none;\n",
       "}\n",
       "\n",
       ".xr-header {\n",
       "  padding-top: 6px;\n",
       "  padding-bottom: 6px;\n",
       "  margin-bottom: 4px;\n",
       "  border-bottom: solid 1px var(--xr-border-color);\n",
       "}\n",
       "\n",
       ".xr-header > div,\n",
       ".xr-header > ul {\n",
       "  display: inline;\n",
       "  margin-top: 0;\n",
       "  margin-bottom: 0;\n",
       "}\n",
       "\n",
       ".xr-obj-type,\n",
       ".xr-array-name {\n",
       "  margin-left: 2px;\n",
       "  margin-right: 10px;\n",
       "}\n",
       "\n",
       ".xr-obj-type {\n",
       "  color: var(--xr-font-color2);\n",
       "}\n",
       "\n",
       ".xr-sections {\n",
       "  padding-left: 0 !important;\n",
       "  display: grid;\n",
       "  grid-template-columns: 150px auto auto 1fr 20px 20px;\n",
       "}\n",
       "\n",
       ".xr-section-item {\n",
       "  display: contents;\n",
       "}\n",
       "\n",
       ".xr-section-item input {\n",
       "  display: none;\n",
       "}\n",
       "\n",
       ".xr-section-item input + label {\n",
       "  color: var(--xr-disabled-color);\n",
       "}\n",
       "\n",
       ".xr-section-item input:enabled + label {\n",
       "  cursor: pointer;\n",
       "  color: var(--xr-font-color2);\n",
       "}\n",
       "\n",
       ".xr-section-item input:enabled + label:hover {\n",
       "  color: var(--xr-font-color0);\n",
       "}\n",
       "\n",
       ".xr-section-summary {\n",
       "  grid-column: 1;\n",
       "  color: var(--xr-font-color2);\n",
       "  font-weight: 500;\n",
       "}\n",
       "\n",
       ".xr-section-summary > span {\n",
       "  display: inline-block;\n",
       "  padding-left: 0.5em;\n",
       "}\n",
       "\n",
       ".xr-section-summary-in:disabled + label {\n",
       "  color: var(--xr-font-color2);\n",
       "}\n",
       "\n",
       ".xr-section-summary-in + label:before {\n",
       "  display: inline-block;\n",
       "  content: '►';\n",
       "  font-size: 11px;\n",
       "  width: 15px;\n",
       "  text-align: center;\n",
       "}\n",
       "\n",
       ".xr-section-summary-in:disabled + label:before {\n",
       "  color: var(--xr-disabled-color);\n",
       "}\n",
       "\n",
       ".xr-section-summary-in:checked + label:before {\n",
       "  content: '▼';\n",
       "}\n",
       "\n",
       ".xr-section-summary-in:checked + label > span {\n",
       "  display: none;\n",
       "}\n",
       "\n",
       ".xr-section-summary,\n",
       ".xr-section-inline-details {\n",
       "  padding-top: 4px;\n",
       "  padding-bottom: 4px;\n",
       "}\n",
       "\n",
       ".xr-section-inline-details {\n",
       "  grid-column: 2 / -1;\n",
       "}\n",
       "\n",
       ".xr-section-details {\n",
       "  display: none;\n",
       "  grid-column: 1 / -1;\n",
       "  margin-bottom: 5px;\n",
       "}\n",
       "\n",
       ".xr-section-summary-in:checked ~ .xr-section-details {\n",
       "  display: contents;\n",
       "}\n",
       "\n",
       ".xr-array-wrap {\n",
       "  grid-column: 1 / -1;\n",
       "  display: grid;\n",
       "  grid-template-columns: 20px auto;\n",
       "}\n",
       "\n",
       ".xr-array-wrap > label {\n",
       "  grid-column: 1;\n",
       "  vertical-align: top;\n",
       "}\n",
       "\n",
       ".xr-preview {\n",
       "  color: var(--xr-font-color3);\n",
       "}\n",
       "\n",
       ".xr-array-preview,\n",
       ".xr-array-data {\n",
       "  padding: 0 5px !important;\n",
       "  grid-column: 2;\n",
       "}\n",
       "\n",
       ".xr-array-data,\n",
       ".xr-array-in:checked ~ .xr-array-preview {\n",
       "  display: none;\n",
       "}\n",
       "\n",
       ".xr-array-in:checked ~ .xr-array-data,\n",
       ".xr-array-preview {\n",
       "  display: inline-block;\n",
       "}\n",
       "\n",
       ".xr-dim-list {\n",
       "  display: inline-block !important;\n",
       "  list-style: none;\n",
       "  padding: 0 !important;\n",
       "  margin: 0;\n",
       "}\n",
       "\n",
       ".xr-dim-list li {\n",
       "  display: inline-block;\n",
       "  padding: 0;\n",
       "  margin: 0;\n",
       "}\n",
       "\n",
       ".xr-dim-list:before {\n",
       "  content: '(';\n",
       "}\n",
       "\n",
       ".xr-dim-list:after {\n",
       "  content: ')';\n",
       "}\n",
       "\n",
       ".xr-dim-list li:not(:last-child):after {\n",
       "  content: ',';\n",
       "  padding-right: 5px;\n",
       "}\n",
       "\n",
       ".xr-has-index {\n",
       "  font-weight: bold;\n",
       "}\n",
       "\n",
       ".xr-var-list,\n",
       ".xr-var-item {\n",
       "  display: contents;\n",
       "}\n",
       "\n",
       ".xr-var-item > div,\n",
       ".xr-var-item label,\n",
       ".xr-var-item > .xr-var-name span {\n",
       "  background-color: var(--xr-background-color-row-even);\n",
       "  margin-bottom: 0;\n",
       "}\n",
       "\n",
       ".xr-var-item > .xr-var-name:hover span {\n",
       "  padding-right: 5px;\n",
       "}\n",
       "\n",
       ".xr-var-list > li:nth-child(odd) > div,\n",
       ".xr-var-list > li:nth-child(odd) > label,\n",
       ".xr-var-list > li:nth-child(odd) > .xr-var-name span {\n",
       "  background-color: var(--xr-background-color-row-odd);\n",
       "}\n",
       "\n",
       ".xr-var-name {\n",
       "  grid-column: 1;\n",
       "}\n",
       "\n",
       ".xr-var-dims {\n",
       "  grid-column: 2;\n",
       "}\n",
       "\n",
       ".xr-var-dtype {\n",
       "  grid-column: 3;\n",
       "  text-align: right;\n",
       "  color: var(--xr-font-color2);\n",
       "}\n",
       "\n",
       ".xr-var-preview {\n",
       "  grid-column: 4;\n",
       "}\n",
       "\n",
       ".xr-index-preview {\n",
       "  grid-column: 2 / 5;\n",
       "  color: var(--xr-font-color2);\n",
       "}\n",
       "\n",
       ".xr-var-name,\n",
       ".xr-var-dims,\n",
       ".xr-var-dtype,\n",
       ".xr-preview,\n",
       ".xr-attrs dt {\n",
       "  white-space: nowrap;\n",
       "  overflow: hidden;\n",
       "  text-overflow: ellipsis;\n",
       "  padding-right: 10px;\n",
       "}\n",
       "\n",
       ".xr-var-name:hover,\n",
       ".xr-var-dims:hover,\n",
       ".xr-var-dtype:hover,\n",
       ".xr-attrs dt:hover {\n",
       "  overflow: visible;\n",
       "  width: auto;\n",
       "  z-index: 1;\n",
       "}\n",
       "\n",
       ".xr-var-attrs,\n",
       ".xr-var-data,\n",
       ".xr-index-data {\n",
       "  display: none;\n",
       "  background-color: var(--xr-background-color) !important;\n",
       "  padding-bottom: 5px !important;\n",
       "}\n",
       "\n",
       ".xr-var-attrs-in:checked ~ .xr-var-attrs,\n",
       ".xr-var-data-in:checked ~ .xr-var-data,\n",
       ".xr-index-data-in:checked ~ .xr-index-data {\n",
       "  display: block;\n",
       "}\n",
       "\n",
       ".xr-var-data > table {\n",
       "  float: right;\n",
       "}\n",
       "\n",
       ".xr-var-name span,\n",
       ".xr-var-data,\n",
       ".xr-index-name div,\n",
       ".xr-index-data,\n",
       ".xr-attrs {\n",
       "  padding-left: 25px !important;\n",
       "}\n",
       "\n",
       ".xr-attrs,\n",
       ".xr-var-attrs,\n",
       ".xr-var-data,\n",
       ".xr-index-data {\n",
       "  grid-column: 1 / -1;\n",
       "}\n",
       "\n",
       "dl.xr-attrs {\n",
       "  padding: 0;\n",
       "  margin: 0;\n",
       "  display: grid;\n",
       "  grid-template-columns: 125px auto;\n",
       "}\n",
       "\n",
       ".xr-attrs dt,\n",
       ".xr-attrs dd {\n",
       "  padding: 0;\n",
       "  margin: 0;\n",
       "  float: left;\n",
       "  padding-right: 10px;\n",
       "  width: auto;\n",
       "}\n",
       "\n",
       ".xr-attrs dt {\n",
       "  font-weight: normal;\n",
       "  grid-column: 1;\n",
       "}\n",
       "\n",
       ".xr-attrs dt:hover span {\n",
       "  display: inline-block;\n",
       "  background: var(--xr-background-color);\n",
       "  padding-right: 10px;\n",
       "}\n",
       "\n",
       ".xr-attrs dd {\n",
       "  grid-column: 2;\n",
       "  white-space: pre-wrap;\n",
       "  word-break: break-all;\n",
       "}\n",
       "\n",
       ".xr-icon-database,\n",
       ".xr-icon-file-text2,\n",
       ".xr-no-icon {\n",
       "  display: inline-block;\n",
       "  vertical-align: middle;\n",
       "  width: 1em;\n",
       "  height: 1.5em !important;\n",
       "  stroke-width: 0;\n",
       "  stroke: currentColor;\n",
       "  fill: currentColor;\n",
       "}\n",
       "</style><pre class='xr-text-repr-fallback'>&lt;xarray.Dataset&gt;\n",
       "Dimensions:       (duration: 1, rlon: 18, rlat: 18, time: 30)\n",
       "Coordinates:\n",
       "  * duration      (duration) int64 3\n",
       "  * rlon          (rlon) float64 -12.97 -12.87 -12.76 ... -11.32 -11.21 -11.11\n",
       "    lon           (rlat, rlon) float64 ...\n",
       "  * rlat          (rlat) float64 -8.965 -8.855 -8.745 ... -7.315 -7.205 -7.095\n",
       "    lat           (rlat, rlon) float64 ...\n",
       "    rotated_pole  int64 ...\n",
       "  * time          (time) datetime64[ns] 2041-01-01 2042-01-01 ... 2070-01-01\n",
       "Data variables:\n",
       "    pr_max        (duration, time, rlat, rlon) float32 ...</pre><div class='xr-wrap' style='display:none'><div class='xr-header'><div class='xr-obj-type'>xarray.Dataset</div></div><ul class='xr-sections'><li class='xr-section-item'><input id='section-e7eb11d4-0dc4-4e4e-976f-b72b455e3e77' class='xr-section-summary-in' type='checkbox' disabled ><label for='section-e7eb11d4-0dc4-4e4e-976f-b72b455e3e77' class='xr-section-summary'  title='Expand/collapse section'>Dimensions:</label><div class='xr-section-inline-details'><ul class='xr-dim-list'><li><span class='xr-has-index'>duration</span>: 1</li><li><span class='xr-has-index'>rlon</span>: 18</li><li><span class='xr-has-index'>rlat</span>: 18</li><li><span class='xr-has-index'>time</span>: 30</li></ul></div><div class='xr-section-details'></div></li><li class='xr-section-item'><input id='section-68ff5525-be88-4c53-b226-39a6d40a6919' class='xr-section-summary-in' type='checkbox'  checked><label for='section-68ff5525-be88-4c53-b226-39a6d40a6919' class='xr-section-summary' >Coordinates: <span>(7)</span></label><div class='xr-section-inline-details'></div><div class='xr-section-details'><ul class='xr-var-list'><li class='xr-var-item'><div class='xr-var-name'><span class='xr-has-index'>duration</span></div><div class='xr-var-dims'>(duration)</div><div class='xr-var-dtype'>int64</div><div class='xr-var-preview xr-preview'>3</div><input id='attrs-a9412199-66f1-4074-9256-07d4400a5742' class='xr-var-attrs-in' type='checkbox' disabled><label for='attrs-a9412199-66f1-4074-9256-07d4400a5742' title='Show/Hide attributes'><svg class='icon xr-icon-file-text2'><use xlink:href='#icon-file-text2'></use></svg></label><input id='data-d34d614d-6698-418a-b1b0-672c0282271b' class='xr-var-data-in' type='checkbox'><label for='data-d34d614d-6698-418a-b1b0-672c0282271b' title='Show/Hide data repr'><svg class='icon xr-icon-database'><use xlink:href='#icon-database'></use></svg></label><div class='xr-var-attrs'><dl class='xr-attrs'></dl></div><div class='xr-var-data'><pre>array([3])</pre></div></li><li class='xr-var-item'><div class='xr-var-name'><span class='xr-has-index'>rlon</span></div><div class='xr-var-dims'>(rlon)</div><div class='xr-var-dtype'>float64</div><div class='xr-var-preview xr-preview'>-12.97 -12.87 ... -11.21 -11.11</div><input id='attrs-3742b654-bb2b-47ac-9aaa-8e0ecec212fd' class='xr-var-attrs-in' type='checkbox' ><label for='attrs-3742b654-bb2b-47ac-9aaa-8e0ecec212fd' title='Show/Hide attributes'><svg class='icon xr-icon-file-text2'><use xlink:href='#icon-file-text2'></use></svg></label><input id='data-9ce86451-169a-438c-b8db-a09661668cfb' class='xr-var-data-in' type='checkbox'><label for='data-9ce86451-169a-438c-b8db-a09661668cfb' title='Show/Hide data repr'><svg class='icon xr-icon-database'><use xlink:href='#icon-database'></use></svg></label><div class='xr-var-attrs'><dl class='xr-attrs'><dt><span>axis :</span></dt><dd>X</dd><dt><span>standard_name :</span></dt><dd>grid_longitude</dd><dt><span>long_name :</span></dt><dd>longitude in rotated pole grid</dd><dt><span>units :</span></dt><dd>degrees</dd></dl></div><div class='xr-var-data'><pre>array([-12.975, -12.865, -12.755, -12.645, -12.535, -12.425, -12.315, -12.205,\n",
       "       -12.095, -11.985, -11.875, -11.765, -11.655, -11.545, -11.435, -11.325,\n",
       "       -11.215, -11.105])</pre></div></li><li class='xr-var-item'><div class='xr-var-name'><span>lon</span></div><div class='xr-var-dims'>(rlat, rlon)</div><div class='xr-var-dtype'>float64</div><div class='xr-var-preview xr-preview'>...</div><input id='attrs-310cf55c-9708-4322-9f0f-aebecfa7782d' class='xr-var-attrs-in' type='checkbox' ><label for='attrs-310cf55c-9708-4322-9f0f-aebecfa7782d' title='Show/Hide attributes'><svg class='icon xr-icon-file-text2'><use xlink:href='#icon-file-text2'></use></svg></label><input id='data-21053929-f52c-441c-98ce-f417d3c59525' class='xr-var-data-in' type='checkbox'><label for='data-21053929-f52c-441c-98ce-f417d3c59525' title='Show/Hide data repr'><svg class='icon xr-icon-database'><use xlink:href='#icon-database'></use></svg></label><div class='xr-var-attrs'><dl class='xr-attrs'><dt><span>standard_name :</span></dt><dd>longitude</dd><dt><span>long_name :</span></dt><dd>longitude</dd><dt><span>units :</span></dt><dd>degrees_east</dd></dl></div><div class='xr-var-data'><pre>[324 values with dtype=float64]</pre></div></li><li class='xr-var-item'><div class='xr-var-name'><span class='xr-has-index'>rlat</span></div><div class='xr-var-dims'>(rlat)</div><div class='xr-var-dtype'>float64</div><div class='xr-var-preview xr-preview'>-8.965 -8.855 ... -7.205 -7.095</div><input id='attrs-d612e00f-4e59-41a1-b80b-cfb90e54d1a5' class='xr-var-attrs-in' type='checkbox' ><label for='attrs-d612e00f-4e59-41a1-b80b-cfb90e54d1a5' title='Show/Hide attributes'><svg class='icon xr-icon-file-text2'><use xlink:href='#icon-file-text2'></use></svg></label><input id='data-06851a7a-102d-4ff7-a84d-219793898e12' class='xr-var-data-in' type='checkbox'><label for='data-06851a7a-102d-4ff7-a84d-219793898e12' title='Show/Hide data repr'><svg class='icon xr-icon-database'><use xlink:href='#icon-database'></use></svg></label><div class='xr-var-attrs'><dl class='xr-attrs'><dt><span>axis :</span></dt><dd>Y</dd><dt><span>standard_name :</span></dt><dd>grid_latitude</dd><dt><span>long_name :</span></dt><dd>latitude in rotated pole grid</dd><dt><span>units :</span></dt><dd>degrees</dd></dl></div><div class='xr-var-data'><pre>array([-8.965, -8.855, -8.745, -8.635, -8.525, -8.415, -8.305, -8.195, -8.085,\n",
       "       -7.975, -7.865, -7.755, -7.645, -7.535, -7.425, -7.315, -7.205, -7.095])</pre></div></li><li class='xr-var-item'><div class='xr-var-name'><span>lat</span></div><div class='xr-var-dims'>(rlat, rlon)</div><div class='xr-var-dtype'>float64</div><div class='xr-var-preview xr-preview'>...</div><input id='attrs-edfa9c07-b633-45d5-9361-0a53b79a4e4e' class='xr-var-attrs-in' type='checkbox' ><label for='attrs-edfa9c07-b633-45d5-9361-0a53b79a4e4e' title='Show/Hide attributes'><svg class='icon xr-icon-file-text2'><use xlink:href='#icon-file-text2'></use></svg></label><input id='data-c1071a65-2dbe-4e1e-8f80-ebc89ae46d78' class='xr-var-data-in' type='checkbox'><label for='data-c1071a65-2dbe-4e1e-8f80-ebc89ae46d78' title='Show/Hide data repr'><svg class='icon xr-icon-database'><use xlink:href='#icon-database'></use></svg></label><div class='xr-var-attrs'><dl class='xr-attrs'><dt><span>standard_name :</span></dt><dd>latitude</dd><dt><span>long_name :</span></dt><dd>latitude</dd><dt><span>units :</span></dt><dd>degrees_north</dd></dl></div><div class='xr-var-data'><pre>[324 values with dtype=float64]</pre></div></li><li class='xr-var-item'><div class='xr-var-name'><span>rotated_pole</span></div><div class='xr-var-dims'>()</div><div class='xr-var-dtype'>int64</div><div class='xr-var-preview xr-preview'>...</div><input id='attrs-30f4a37f-8a1f-49b2-a5b2-f4436c5f63e6' class='xr-var-attrs-in' type='checkbox' ><label for='attrs-30f4a37f-8a1f-49b2-a5b2-f4436c5f63e6' title='Show/Hide attributes'><svg class='icon xr-icon-file-text2'><use xlink:href='#icon-file-text2'></use></svg></label><input id='data-d13e6f27-3bee-4501-8caf-f2b5ab0ebc1a' class='xr-var-data-in' type='checkbox'><label for='data-d13e6f27-3bee-4501-8caf-f2b5ab0ebc1a' title='Show/Hide data repr'><svg class='icon xr-icon-database'><use xlink:href='#icon-database'></use></svg></label><div class='xr-var-attrs'><dl class='xr-attrs'><dt><span>crs_wkt :</span></dt><dd>GEOGCRS[&quot;unnamed&quot;,BASEGEOGCRS[&quot;unknown&quot;,DATUM[&quot;Unknown based on WGS 84 ellipsoid&quot;,ELLIPSOID[&quot;WGS 84&quot;,6378137,298.257223563,LENGTHUNIT[&quot;metre&quot;,1,ID[&quot;EPSG&quot;,9001]]]],PRIMEM[&quot;Greenwich&quot;,0,ANGLEUNIT[&quot;degree&quot;,0.0174532925199433],ID[&quot;EPSG&quot;,8901]]],DERIVINGCONVERSION[&quot;unknown&quot;,METHOD[&quot;PROJ ob_tran o_proj=latlon&quot;],PARAMETER[&quot;o_lon_p&quot;,0,ANGLEUNIT[&quot;degree&quot;,0.0174532925199433,ID[&quot;EPSG&quot;,9122]]],PARAMETER[&quot;o_lat_p&quot;,39.25,ANGLEUNIT[&quot;degree&quot;,0.0174532925199433,ID[&quot;EPSG&quot;,9122]]],PARAMETER[&quot;lon_0&quot;,18,ANGLEUNIT[&quot;degree&quot;,0.0174532925199433,ID[&quot;EPSG&quot;,9122]]]],CS[ellipsoidal,2],AXIS[&quot;longitude&quot;,east,ORDER[1],ANGLEUNIT[&quot;degree&quot;,0.0174532925199433,ID[&quot;EPSG&quot;,9122]]],AXIS[&quot;latitude&quot;,north,ORDER[2],ANGLEUNIT[&quot;degree&quot;,0.0174532925199433,ID[&quot;EPSG&quot;,9122]]]]</dd><dt><span>semi_major_axis :</span></dt><dd>6378137.0</dd><dt><span>semi_minor_axis :</span></dt><dd>6356752.314245179</dd><dt><span>inverse_flattening :</span></dt><dd>298.257223563</dd><dt><span>reference_ellipsoid_name :</span></dt><dd>WGS 84</dd><dt><span>longitude_of_prime_meridian :</span></dt><dd>0.0</dd><dt><span>prime_meridian_name :</span></dt><dd>Greenwich</dd><dt><span>geographic_crs_name :</span></dt><dd>unnamed</dd><dt><span>horizontal_datum_name :</span></dt><dd>Unknown based on WGS 84 ellipsoid</dd><dt><span>grid_mapping_name :</span></dt><dd>rotated_latitude_longitude</dd><dt><span>grid_north_pole_latitude :</span></dt><dd>39.25</dd><dt><span>grid_north_pole_longitude :</span></dt><dd>-162.0</dd><dt><span>north_pole_grid_longitude :</span></dt><dd>0.0</dd><dt><span>spatial_ref :</span></dt><dd>GEOGCRS[&quot;unnamed&quot;,BASEGEOGCRS[&quot;unknown&quot;,DATUM[&quot;Unknown based on WGS 84 ellipsoid&quot;,ELLIPSOID[&quot;WGS 84&quot;,6378137,298.257223563,LENGTHUNIT[&quot;metre&quot;,1,ID[&quot;EPSG&quot;,9001]]]],PRIMEM[&quot;Greenwich&quot;,0,ANGLEUNIT[&quot;degree&quot;,0.0174532925199433],ID[&quot;EPSG&quot;,8901]]],DERIVINGCONVERSION[&quot;unknown&quot;,METHOD[&quot;PROJ ob_tran o_proj=latlon&quot;],PARAMETER[&quot;o_lon_p&quot;,0,ANGLEUNIT[&quot;degree&quot;,0.0174532925199433,ID[&quot;EPSG&quot;,9122]]],PARAMETER[&quot;o_lat_p&quot;,39.25,ANGLEUNIT[&quot;degree&quot;,0.0174532925199433,ID[&quot;EPSG&quot;,9122]]],PARAMETER[&quot;lon_0&quot;,18,ANGLEUNIT[&quot;degree&quot;,0.0174532925199433,ID[&quot;EPSG&quot;,9122]]]],CS[ellipsoidal,2],AXIS[&quot;longitude&quot;,east,ORDER[1],ANGLEUNIT[&quot;degree&quot;,0.0174532925199433,ID[&quot;EPSG&quot;,9122]]],AXIS[&quot;latitude&quot;,north,ORDER[2],ANGLEUNIT[&quot;degree&quot;,0.0174532925199433,ID[&quot;EPSG&quot;,9122]]]]</dd></dl></div><div class='xr-var-data'><pre>[1 values with dtype=int64]</pre></div></li><li class='xr-var-item'><div class='xr-var-name'><span class='xr-has-index'>time</span></div><div class='xr-var-dims'>(time)</div><div class='xr-var-dtype'>datetime64[ns]</div><div class='xr-var-preview xr-preview'>2041-01-01 ... 2070-01-01</div><input id='attrs-f3387847-a5c0-4d0c-9cfc-a2fe055e9b71' class='xr-var-attrs-in' type='checkbox' ><label for='attrs-f3387847-a5c0-4d0c-9cfc-a2fe055e9b71' title='Show/Hide attributes'><svg class='icon xr-icon-file-text2'><use xlink:href='#icon-file-text2'></use></svg></label><input id='data-5dc2161b-f3e1-4e04-82dd-554eee75f5cc' class='xr-var-data-in' type='checkbox'><label for='data-5dc2161b-f3e1-4e04-82dd-554eee75f5cc' title='Show/Hide data repr'><svg class='icon xr-icon-database'><use xlink:href='#icon-database'></use></svg></label><div class='xr-var-attrs'><dl class='xr-attrs'><dt><span>standard_name :</span></dt><dd>time</dd><dt><span>long_name :</span></dt><dd>time</dd></dl></div><div class='xr-var-data'><pre>array([&#x27;2041-01-01T00:00:00.000000000&#x27;, &#x27;2042-01-01T00:00:00.000000000&#x27;,\n",
       "       &#x27;2043-01-01T00:00:00.000000000&#x27;, &#x27;2044-01-01T00:00:00.000000000&#x27;,\n",
       "       &#x27;2045-01-01T00:00:00.000000000&#x27;, &#x27;2046-01-01T00:00:00.000000000&#x27;,\n",
       "       &#x27;2047-01-01T00:00:00.000000000&#x27;, &#x27;2048-01-01T00:00:00.000000000&#x27;,\n",
       "       &#x27;2049-01-01T00:00:00.000000000&#x27;, &#x27;2050-01-01T00:00:00.000000000&#x27;,\n",
       "       &#x27;2051-01-01T00:00:00.000000000&#x27;, &#x27;2052-01-01T00:00:00.000000000&#x27;,\n",
       "       &#x27;2053-01-01T00:00:00.000000000&#x27;, &#x27;2054-01-01T00:00:00.000000000&#x27;,\n",
       "       &#x27;2055-01-01T00:00:00.000000000&#x27;, &#x27;2056-01-01T00:00:00.000000000&#x27;,\n",
       "       &#x27;2057-01-01T00:00:00.000000000&#x27;, &#x27;2058-01-01T00:00:00.000000000&#x27;,\n",
       "       &#x27;2059-01-01T00:00:00.000000000&#x27;, &#x27;2060-01-01T00:00:00.000000000&#x27;,\n",
       "       &#x27;2061-01-01T00:00:00.000000000&#x27;, &#x27;2062-01-01T00:00:00.000000000&#x27;,\n",
       "       &#x27;2063-01-01T00:00:00.000000000&#x27;, &#x27;2064-01-01T00:00:00.000000000&#x27;,\n",
       "       &#x27;2065-01-01T00:00:00.000000000&#x27;, &#x27;2066-01-01T00:00:00.000000000&#x27;,\n",
       "       &#x27;2067-01-01T00:00:00.000000000&#x27;, &#x27;2068-01-01T00:00:00.000000000&#x27;,\n",
       "       &#x27;2069-01-01T00:00:00.000000000&#x27;, &#x27;2070-01-01T00:00:00.000000000&#x27;],\n",
       "      dtype=&#x27;datetime64[ns]&#x27;)</pre></div></li></ul></div></li><li class='xr-section-item'><input id='section-29e41a8c-f67f-43db-a5dc-2dc8fa65183d' class='xr-section-summary-in' type='checkbox'  checked><label for='section-29e41a8c-f67f-43db-a5dc-2dc8fa65183d' class='xr-section-summary' >Data variables: <span>(1)</span></label><div class='xr-section-inline-details'></div><div class='xr-section-details'><ul class='xr-var-list'><li class='xr-var-item'><div class='xr-var-name'><span>pr_max</span></div><div class='xr-var-dims'>(duration, time, rlat, rlon)</div><div class='xr-var-dtype'>float32</div><div class='xr-var-preview xr-preview'>...</div><input id='attrs-282395b2-384e-43cf-97cc-ca45b0ebbb19' class='xr-var-attrs-in' type='checkbox' ><label for='attrs-282395b2-384e-43cf-97cc-ca45b0ebbb19' title='Show/Hide attributes'><svg class='icon xr-icon-file-text2'><use xlink:href='#icon-file-text2'></use></svg></label><input id='data-6754f1aa-5cbd-403c-ae67-3aa82aa1b97c' class='xr-var-data-in' type='checkbox'><label for='data-6754f1aa-5cbd-403c-ae67-3aa82aa1b97c' title='Show/Hide data repr'><svg class='icon xr-icon-database'><use xlink:href='#icon-database'></use></svg></label><div class='xr-var-attrs'><dl class='xr-attrs'><dt><span>units :</span></dt><dd>mm</dd></dl></div><div class='xr-var-data'><pre>[9720 values with dtype=float32]</pre></div></li></ul></div></li><li class='xr-section-item'><input id='section-0cb0e548-3774-4251-8253-a239f1d3aa96' class='xr-section-summary-in' type='checkbox'  ><label for='section-0cb0e548-3774-4251-8253-a239f1d3aa96' class='xr-section-summary' >Indexes: <span>(4)</span></label><div class='xr-section-inline-details'></div><div class='xr-section-details'><ul class='xr-var-list'><li class='xr-var-item'><div class='xr-index-name'><div>duration</div></div><div class='xr-index-preview'>PandasIndex</div><div></div><input id='index-cc30cef8-48b4-4066-869b-1d918ae199d3' class='xr-index-data-in' type='checkbox'/><label for='index-cc30cef8-48b4-4066-869b-1d918ae199d3' title='Show/Hide index repr'><svg class='icon xr-icon-database'><use xlink:href='#icon-database'></use></svg></label><div class='xr-index-data'><pre>PandasIndex(Index([3], dtype=&#x27;int64&#x27;, name=&#x27;duration&#x27;))</pre></div></li><li class='xr-var-item'><div class='xr-index-name'><div>rlon</div></div><div class='xr-index-preview'>PandasIndex</div><div></div><input id='index-c910f763-1a7f-4c8e-b06b-f06f9a227166' class='xr-index-data-in' type='checkbox'/><label for='index-c910f763-1a7f-4c8e-b06b-f06f9a227166' title='Show/Hide index repr'><svg class='icon xr-icon-database'><use xlink:href='#icon-database'></use></svg></label><div class='xr-index-data'><pre>PandasIndex(Index([-12.975, -12.865, -12.755, -12.645, -12.535, -12.425, -12.315, -12.205,\n",
       "       -12.095, -11.985, -11.875, -11.765, -11.655, -11.545, -11.435, -11.325,\n",
       "       -11.215, -11.105],\n",
       "      dtype=&#x27;float64&#x27;, name=&#x27;rlon&#x27;))</pre></div></li><li class='xr-var-item'><div class='xr-index-name'><div>rlat</div></div><div class='xr-index-preview'>PandasIndex</div><div></div><input id='index-3f9518ca-8611-4844-a4f0-6bf72a0c0ea2' class='xr-index-data-in' type='checkbox'/><label for='index-3f9518ca-8611-4844-a4f0-6bf72a0c0ea2' title='Show/Hide index repr'><svg class='icon xr-icon-database'><use xlink:href='#icon-database'></use></svg></label><div class='xr-index-data'><pre>PandasIndex(Index([             -8.965,              -8.855,              -8.745,\n",
       "                    -8.635,              -8.525,              -8.415,\n",
       "                    -8.305,              -8.195,  -8.084999999999999,\n",
       "                    -7.975,              -7.865,              -7.755,\n",
       "                    -7.645,              -7.535,              -7.425,\n",
       "       -7.3149999999999995,              -7.205,              -7.095],\n",
       "      dtype=&#x27;float64&#x27;, name=&#x27;rlat&#x27;))</pre></div></li><li class='xr-var-item'><div class='xr-index-name'><div>time</div></div><div class='xr-index-preview'>PandasIndex</div><div></div><input id='index-dc8876de-1889-4cdb-b130-1ba27bdc8759' class='xr-index-data-in' type='checkbox'/><label for='index-dc8876de-1889-4cdb-b130-1ba27bdc8759' title='Show/Hide index repr'><svg class='icon xr-icon-database'><use xlink:href='#icon-database'></use></svg></label><div class='xr-index-data'><pre>PandasIndex(DatetimeIndex([&#x27;2041-01-01&#x27;, &#x27;2042-01-01&#x27;, &#x27;2043-01-01&#x27;, &#x27;2044-01-01&#x27;,\n",
       "               &#x27;2045-01-01&#x27;, &#x27;2046-01-01&#x27;, &#x27;2047-01-01&#x27;, &#x27;2048-01-01&#x27;,\n",
       "               &#x27;2049-01-01&#x27;, &#x27;2050-01-01&#x27;, &#x27;2051-01-01&#x27;, &#x27;2052-01-01&#x27;,\n",
       "               &#x27;2053-01-01&#x27;, &#x27;2054-01-01&#x27;, &#x27;2055-01-01&#x27;, &#x27;2056-01-01&#x27;,\n",
       "               &#x27;2057-01-01&#x27;, &#x27;2058-01-01&#x27;, &#x27;2059-01-01&#x27;, &#x27;2060-01-01&#x27;,\n",
       "               &#x27;2061-01-01&#x27;, &#x27;2062-01-01&#x27;, &#x27;2063-01-01&#x27;, &#x27;2064-01-01&#x27;,\n",
       "               &#x27;2065-01-01&#x27;, &#x27;2066-01-01&#x27;, &#x27;2067-01-01&#x27;, &#x27;2068-01-01&#x27;,\n",
       "               &#x27;2069-01-01&#x27;, &#x27;2070-01-01&#x27;],\n",
       "              dtype=&#x27;datetime64[ns]&#x27;, name=&#x27;time&#x27;, freq=None))</pre></div></li></ul></div></li><li class='xr-section-item'><input id='section-e8ab26a4-7a8a-4502-a708-96430f18e9ef' class='xr-section-summary-in' type='checkbox' disabled ><label for='section-e8ab26a4-7a8a-4502-a708-96430f18e9ef' class='xr-section-summary'  title='Expand/collapse section'>Attributes: <span>(0)</span></label><div class='xr-section-inline-details'></div><div class='xr-section-details'><dl class='xr-attrs'></dl></div></li></ul></div></div>"
      ],
      "text/plain": [
       "<xarray.Dataset>\n",
       "Dimensions:       (duration: 1, rlon: 18, rlat: 18, time: 30)\n",
       "Coordinates:\n",
       "  * duration      (duration) int64 3\n",
       "  * rlon          (rlon) float64 -12.97 -12.87 -12.76 ... -11.32 -11.21 -11.11\n",
       "    lon           (rlat, rlon) float64 ...\n",
       "  * rlat          (rlat) float64 -8.965 -8.855 -8.745 ... -7.315 -7.205 -7.095\n",
       "    lat           (rlat, rlon) float64 ...\n",
       "    rotated_pole  int64 ...\n",
       "  * time          (time) datetime64[ns] 2041-01-01 2042-01-01 ... 2070-01-01\n",
       "Data variables:\n",
       "    pr_max        (duration, time, rlat, rlon) float32 ..."
      ]
     },
     "execution_count": 181,
     "metadata": {},
     "output_type": "execute_result"
    }
   ],
   "source": [
    "# Open netCDF with xarray (now we just have one file for each duration)\n",
    "dataset_pr_max = xr.open_dataset(os.path.join(data_dir, 'pr_3h_annual_maximum_2041_2070.nc'),\n",
    "                                 decode_coords='all')\n",
    "\n",
    "# Display the dataset\n",
    "dataset_pr_max"
   ]
  },
  {
   "cell_type": "markdown",
   "id": "9940e668-0377-4619-bd64-ff29e73a8efa",
   "metadata": {},
   "source": [
    "If a pair of rotated latitude and longitude coordinates is selected, it is possible to plot (with the ```plotly``` library) the evolution of said annual maxima series."
   ]
  },
  {
   "cell_type": "code",
   "execution_count": 184,
   "id": "ff1b3f29-37e7-4ad3-8cff-2a7b83667410",
   "metadata": {},
   "outputs": [
    {
     "data": {
      "application/vnd.plotly.v1+json": {
       "config": {
        "plotlyServerURL": "https://plot.ly"
       },
       "data": [
        {
         "alignmentgroup": "True",
         "hovertemplate": "time=%{x}<br>pr_max=%{y}<extra></extra>",
         "legendgroup": "",
         "marker": {
          "color": "#636efa",
          "pattern": {
           "shape": ""
          }
         },
         "name": "",
         "offsetgroup": "",
         "orientation": "v",
         "showlegend": false,
         "textposition": "auto",
         "type": "bar",
         "x": [
          "2041-01-01T00:00:00",
          "2042-01-01T00:00:00",
          "2043-01-01T00:00:00",
          "2044-01-01T00:00:00",
          "2045-01-01T00:00:00",
          "2046-01-01T00:00:00",
          "2047-01-01T00:00:00",
          "2048-01-01T00:00:00",
          "2049-01-01T00:00:00",
          "2050-01-01T00:00:00",
          "2051-01-01T00:00:00",
          "2052-01-01T00:00:00",
          "2053-01-01T00:00:00",
          "2054-01-01T00:00:00",
          "2055-01-01T00:00:00",
          "2056-01-01T00:00:00",
          "2057-01-01T00:00:00",
          "2058-01-01T00:00:00",
          "2059-01-01T00:00:00",
          "2060-01-01T00:00:00",
          "2061-01-01T00:00:00",
          "2062-01-01T00:00:00",
          "2063-01-01T00:00:00",
          "2064-01-01T00:00:00",
          "2065-01-01T00:00:00",
          "2066-01-01T00:00:00",
          "2067-01-01T00:00:00",
          "2068-01-01T00:00:00",
          "2069-01-01T00:00:00",
          "2070-01-01T00:00:00"
         ],
         "xaxis": "x",
         "y": [
          39.0625,
          20.328125,
          27.062501907348633,
          6.843750953674316,
          10.445313453674316,
          39.125003814697266,
          9.382813453674316,
          27.820316314697266,
          17.375,
          15.515625,
          44.9140625,
          18.859376907348633,
          8.742188453674316,
          14.000000953674316,
          17.375,
          18.59375,
          8.179688453674316,
          17.789064407348633,
          25.656251907348633,
          17.6875,
          11.304688453674316,
          null,
          null,
          null,
          null,
          null,
          null,
          null,
          null,
          null
         ],
         "yaxis": "y"
        }
       ],
       "layout": {
        "autosize": true,
        "barmode": "relative",
        "legend": {
         "tracegroupgap": 0
        },
        "template": {
         "data": {
          "bar": [
           {
            "error_x": {
             "color": "#2a3f5f"
            },
            "error_y": {
             "color": "#2a3f5f"
            },
            "marker": {
             "line": {
              "color": "#E5ECF6",
              "width": 0.5
             },
             "pattern": {
              "fillmode": "overlay",
              "size": 10,
              "solidity": 0.2
             }
            },
            "type": "bar"
           }
          ],
          "barpolar": [
           {
            "marker": {
             "line": {
              "color": "#E5ECF6",
              "width": 0.5
             },
             "pattern": {
              "fillmode": "overlay",
              "size": 10,
              "solidity": 0.2
             }
            },
            "type": "barpolar"
           }
          ],
          "carpet": [
           {
            "aaxis": {
             "endlinecolor": "#2a3f5f",
             "gridcolor": "white",
             "linecolor": "white",
             "minorgridcolor": "white",
             "startlinecolor": "#2a3f5f"
            },
            "baxis": {
             "endlinecolor": "#2a3f5f",
             "gridcolor": "white",
             "linecolor": "white",
             "minorgridcolor": "white",
             "startlinecolor": "#2a3f5f"
            },
            "type": "carpet"
           }
          ],
          "choropleth": [
           {
            "colorbar": {
             "outlinewidth": 0,
             "ticks": ""
            },
            "type": "choropleth"
           }
          ],
          "contour": [
           {
            "colorbar": {
             "outlinewidth": 0,
             "ticks": ""
            },
            "colorscale": [
             [
              0,
              "#0d0887"
             ],
             [
              0.1111111111111111,
              "#46039f"
             ],
             [
              0.2222222222222222,
              "#7201a8"
             ],
             [
              0.3333333333333333,
              "#9c179e"
             ],
             [
              0.4444444444444444,
              "#bd3786"
             ],
             [
              0.5555555555555556,
              "#d8576b"
             ],
             [
              0.6666666666666666,
              "#ed7953"
             ],
             [
              0.7777777777777778,
              "#fb9f3a"
             ],
             [
              0.8888888888888888,
              "#fdca26"
             ],
             [
              1,
              "#f0f921"
             ]
            ],
            "type": "contour"
           }
          ],
          "contourcarpet": [
           {
            "colorbar": {
             "outlinewidth": 0,
             "ticks": ""
            },
            "type": "contourcarpet"
           }
          ],
          "heatmap": [
           {
            "colorbar": {
             "outlinewidth": 0,
             "ticks": ""
            },
            "colorscale": [
             [
              0,
              "#0d0887"
             ],
             [
              0.1111111111111111,
              "#46039f"
             ],
             [
              0.2222222222222222,
              "#7201a8"
             ],
             [
              0.3333333333333333,
              "#9c179e"
             ],
             [
              0.4444444444444444,
              "#bd3786"
             ],
             [
              0.5555555555555556,
              "#d8576b"
             ],
             [
              0.6666666666666666,
              "#ed7953"
             ],
             [
              0.7777777777777778,
              "#fb9f3a"
             ],
             [
              0.8888888888888888,
              "#fdca26"
             ],
             [
              1,
              "#f0f921"
             ]
            ],
            "type": "heatmap"
           }
          ],
          "heatmapgl": [
           {
            "colorbar": {
             "outlinewidth": 0,
             "ticks": ""
            },
            "colorscale": [
             [
              0,
              "#0d0887"
             ],
             [
              0.1111111111111111,
              "#46039f"
             ],
             [
              0.2222222222222222,
              "#7201a8"
             ],
             [
              0.3333333333333333,
              "#9c179e"
             ],
             [
              0.4444444444444444,
              "#bd3786"
             ],
             [
              0.5555555555555556,
              "#d8576b"
             ],
             [
              0.6666666666666666,
              "#ed7953"
             ],
             [
              0.7777777777777778,
              "#fb9f3a"
             ],
             [
              0.8888888888888888,
              "#fdca26"
             ],
             [
              1,
              "#f0f921"
             ]
            ],
            "type": "heatmapgl"
           }
          ],
          "histogram": [
           {
            "marker": {
             "pattern": {
              "fillmode": "overlay",
              "size": 10,
              "solidity": 0.2
             }
            },
            "type": "histogram"
           }
          ],
          "histogram2d": [
           {
            "colorbar": {
             "outlinewidth": 0,
             "ticks": ""
            },
            "colorscale": [
             [
              0,
              "#0d0887"
             ],
             [
              0.1111111111111111,
              "#46039f"
             ],
             [
              0.2222222222222222,
              "#7201a8"
             ],
             [
              0.3333333333333333,
              "#9c179e"
             ],
             [
              0.4444444444444444,
              "#bd3786"
             ],
             [
              0.5555555555555556,
              "#d8576b"
             ],
             [
              0.6666666666666666,
              "#ed7953"
             ],
             [
              0.7777777777777778,
              "#fb9f3a"
             ],
             [
              0.8888888888888888,
              "#fdca26"
             ],
             [
              1,
              "#f0f921"
             ]
            ],
            "type": "histogram2d"
           }
          ],
          "histogram2dcontour": [
           {
            "colorbar": {
             "outlinewidth": 0,
             "ticks": ""
            },
            "colorscale": [
             [
              0,
              "#0d0887"
             ],
             [
              0.1111111111111111,
              "#46039f"
             ],
             [
              0.2222222222222222,
              "#7201a8"
             ],
             [
              0.3333333333333333,
              "#9c179e"
             ],
             [
              0.4444444444444444,
              "#bd3786"
             ],
             [
              0.5555555555555556,
              "#d8576b"
             ],
             [
              0.6666666666666666,
              "#ed7953"
             ],
             [
              0.7777777777777778,
              "#fb9f3a"
             ],
             [
              0.8888888888888888,
              "#fdca26"
             ],
             [
              1,
              "#f0f921"
             ]
            ],
            "type": "histogram2dcontour"
           }
          ],
          "mesh3d": [
           {
            "colorbar": {
             "outlinewidth": 0,
             "ticks": ""
            },
            "type": "mesh3d"
           }
          ],
          "parcoords": [
           {
            "line": {
             "colorbar": {
              "outlinewidth": 0,
              "ticks": ""
             }
            },
            "type": "parcoords"
           }
          ],
          "pie": [
           {
            "automargin": true,
            "type": "pie"
           }
          ],
          "scatter": [
           {
            "fillpattern": {
             "fillmode": "overlay",
             "size": 10,
             "solidity": 0.2
            },
            "type": "scatter"
           }
          ],
          "scatter3d": [
           {
            "line": {
             "colorbar": {
              "outlinewidth": 0,
              "ticks": ""
             }
            },
            "marker": {
             "colorbar": {
              "outlinewidth": 0,
              "ticks": ""
             }
            },
            "type": "scatter3d"
           }
          ],
          "scattercarpet": [
           {
            "marker": {
             "colorbar": {
              "outlinewidth": 0,
              "ticks": ""
             }
            },
            "type": "scattercarpet"
           }
          ],
          "scattergeo": [
           {
            "marker": {
             "colorbar": {
              "outlinewidth": 0,
              "ticks": ""
             }
            },
            "type": "scattergeo"
           }
          ],
          "scattergl": [
           {
            "marker": {
             "colorbar": {
              "outlinewidth": 0,
              "ticks": ""
             }
            },
            "type": "scattergl"
           }
          ],
          "scattermapbox": [
           {
            "marker": {
             "colorbar": {
              "outlinewidth": 0,
              "ticks": ""
             }
            },
            "type": "scattermapbox"
           }
          ],
          "scatterpolar": [
           {
            "marker": {
             "colorbar": {
              "outlinewidth": 0,
              "ticks": ""
             }
            },
            "type": "scatterpolar"
           }
          ],
          "scatterpolargl": [
           {
            "marker": {
             "colorbar": {
              "outlinewidth": 0,
              "ticks": ""
             }
            },
            "type": "scatterpolargl"
           }
          ],
          "scatterternary": [
           {
            "marker": {
             "colorbar": {
              "outlinewidth": 0,
              "ticks": ""
             }
            },
            "type": "scatterternary"
           }
          ],
          "surface": [
           {
            "colorbar": {
             "outlinewidth": 0,
             "ticks": ""
            },
            "colorscale": [
             [
              0,
              "#0d0887"
             ],
             [
              0.1111111111111111,
              "#46039f"
             ],
             [
              0.2222222222222222,
              "#7201a8"
             ],
             [
              0.3333333333333333,
              "#9c179e"
             ],
             [
              0.4444444444444444,
              "#bd3786"
             ],
             [
              0.5555555555555556,
              "#d8576b"
             ],
             [
              0.6666666666666666,
              "#ed7953"
             ],
             [
              0.7777777777777778,
              "#fb9f3a"
             ],
             [
              0.8888888888888888,
              "#fdca26"
             ],
             [
              1,
              "#f0f921"
             ]
            ],
            "type": "surface"
           }
          ],
          "table": [
           {
            "cells": {
             "fill": {
              "color": "#EBF0F8"
             },
             "line": {
              "color": "white"
             }
            },
            "header": {
             "fill": {
              "color": "#C8D4E3"
             },
             "line": {
              "color": "white"
             }
            },
            "type": "table"
           }
          ]
         },
         "layout": {
          "annotationdefaults": {
           "arrowcolor": "#2a3f5f",
           "arrowhead": 0,
           "arrowwidth": 1
          },
          "autotypenumbers": "strict",
          "coloraxis": {
           "colorbar": {
            "outlinewidth": 0,
            "ticks": ""
           }
          },
          "colorscale": {
           "diverging": [
            [
             0,
             "#8e0152"
            ],
            [
             0.1,
             "#c51b7d"
            ],
            [
             0.2,
             "#de77ae"
            ],
            [
             0.3,
             "#f1b6da"
            ],
            [
             0.4,
             "#fde0ef"
            ],
            [
             0.5,
             "#f7f7f7"
            ],
            [
             0.6,
             "#e6f5d0"
            ],
            [
             0.7,
             "#b8e186"
            ],
            [
             0.8,
             "#7fbc41"
            ],
            [
             0.9,
             "#4d9221"
            ],
            [
             1,
             "#276419"
            ]
           ],
           "sequential": [
            [
             0,
             "#0d0887"
            ],
            [
             0.1111111111111111,
             "#46039f"
            ],
            [
             0.2222222222222222,
             "#7201a8"
            ],
            [
             0.3333333333333333,
             "#9c179e"
            ],
            [
             0.4444444444444444,
             "#bd3786"
            ],
            [
             0.5555555555555556,
             "#d8576b"
            ],
            [
             0.6666666666666666,
             "#ed7953"
            ],
            [
             0.7777777777777778,
             "#fb9f3a"
            ],
            [
             0.8888888888888888,
             "#fdca26"
            ],
            [
             1,
             "#f0f921"
            ]
           ],
           "sequentialminus": [
            [
             0,
             "#0d0887"
            ],
            [
             0.1111111111111111,
             "#46039f"
            ],
            [
             0.2222222222222222,
             "#7201a8"
            ],
            [
             0.3333333333333333,
             "#9c179e"
            ],
            [
             0.4444444444444444,
             "#bd3786"
            ],
            [
             0.5555555555555556,
             "#d8576b"
            ],
            [
             0.6666666666666666,
             "#ed7953"
            ],
            [
             0.7777777777777778,
             "#fb9f3a"
            ],
            [
             0.8888888888888888,
             "#fdca26"
            ],
            [
             1,
             "#f0f921"
            ]
           ]
          },
          "colorway": [
           "#636efa",
           "#EF553B",
           "#00cc96",
           "#ab63fa",
           "#FFA15A",
           "#19d3f3",
           "#FF6692",
           "#B6E880",
           "#FF97FF",
           "#FECB52"
          ],
          "font": {
           "color": "#2a3f5f"
          },
          "geo": {
           "bgcolor": "white",
           "lakecolor": "white",
           "landcolor": "#E5ECF6",
           "showlakes": true,
           "showland": true,
           "subunitcolor": "white"
          },
          "hoverlabel": {
           "align": "left"
          },
          "hovermode": "closest",
          "mapbox": {
           "style": "light"
          },
          "paper_bgcolor": "white",
          "plot_bgcolor": "#E5ECF6",
          "polar": {
           "angularaxis": {
            "gridcolor": "white",
            "linecolor": "white",
            "ticks": ""
           },
           "bgcolor": "#E5ECF6",
           "radialaxis": {
            "gridcolor": "white",
            "linecolor": "white",
            "ticks": ""
           }
          },
          "scene": {
           "xaxis": {
            "backgroundcolor": "#E5ECF6",
            "gridcolor": "white",
            "gridwidth": 2,
            "linecolor": "white",
            "showbackground": true,
            "ticks": "",
            "zerolinecolor": "white"
           },
           "yaxis": {
            "backgroundcolor": "#E5ECF6",
            "gridcolor": "white",
            "gridwidth": 2,
            "linecolor": "white",
            "showbackground": true,
            "ticks": "",
            "zerolinecolor": "white"
           },
           "zaxis": {
            "backgroundcolor": "#E5ECF6",
            "gridcolor": "white",
            "gridwidth": 2,
            "linecolor": "white",
            "showbackground": true,
            "ticks": "",
            "zerolinecolor": "white"
           }
          },
          "shapedefaults": {
           "line": {
            "color": "#2a3f5f"
           }
          },
          "ternary": {
           "aaxis": {
            "gridcolor": "white",
            "linecolor": "white",
            "ticks": ""
           },
           "baxis": {
            "gridcolor": "white",
            "linecolor": "white",
            "ticks": ""
           },
           "bgcolor": "#E5ECF6",
           "caxis": {
            "gridcolor": "white",
            "linecolor": "white",
            "ticks": ""
           }
          },
          "title": {
           "x": 0.05
          },
          "xaxis": {
           "automargin": true,
           "gridcolor": "white",
           "linecolor": "white",
           "ticks": "",
           "title": {
            "standoff": 15
           },
           "zerolinecolor": "white",
           "zerolinewidth": 2
          },
          "yaxis": {
           "automargin": true,
           "gridcolor": "white",
           "linecolor": "white",
           "ticks": "",
           "title": {
            "standoff": 15
           },
           "zerolinecolor": "white",
           "zerolinewidth": 2
          }
         }
        },
        "title": {
         "text": "Annual maximum precipitation for 3h duration"
        },
        "xaxis": {
         "anchor": "y",
         "autorange": true,
         "domain": [
          0,
          1
         ],
         "range": [
          "2040-07-02 12:00",
          "2070-07-02 12:00"
         ],
         "title": {
          "text": "time"
         },
         "type": "date"
        },
        "yaxis": {
         "anchor": "x",
         "autorange": true,
         "domain": [
          0,
          1
         ],
         "range": [
          0,
          47.27796052631579
         ],
         "title": {
          "text": "Precipitation (mm)"
         },
         "type": "linear"
        }
       }
      },
      "image/png": "[encoded data removed]",
      "text/html": [
       "<div>                            <div id=\"a98d2227-dc57-4b56-bbf9-140ad4f67bee\" class=\"plotly-graph-div\" style=\"height:525px; width:100%;\"></div>            <script type=\"text/javascript\">                require([\"plotly\"], function(Plotly) {                    window.PLOTLYENV=window.PLOTLYENV || {};                                    if (document.getElementById(\"a98d2227-dc57-4b56-bbf9-140ad4f67bee\")) {                    Plotly.newPlot(                        \"a98d2227-dc57-4b56-bbf9-140ad4f67bee\",                        [{\"alignmentgroup\":\"True\",\"hovertemplate\":\"time=%{x}\\u003cbr\\u003epr_max=%{y}\\u003cextra\\u003e\\u003c\\u002fextra\\u003e\",\"legendgroup\":\"\",\"marker\":{\"color\":\"#636efa\",\"pattern\":{\"shape\":\"\"}},\"name\":\"\",\"offsetgroup\":\"\",\"orientation\":\"v\",\"showlegend\":false,\"textposition\":\"auto\",\"x\":[\"2041-01-01T00:00:00\",\"2042-01-01T00:00:00\",\"2043-01-01T00:00:00\",\"2044-01-01T00:00:00\",\"2045-01-01T00:00:00\",\"2046-01-01T00:00:00\",\"2047-01-01T00:00:00\",\"2048-01-01T00:00:00\",\"2049-01-01T00:00:00\",\"2050-01-01T00:00:00\",\"2051-01-01T00:00:00\",\"2052-01-01T00:00:00\",\"2053-01-01T00:00:00\",\"2054-01-01T00:00:00\",\"2055-01-01T00:00:00\",\"2056-01-01T00:00:00\",\"2057-01-01T00:00:00\",\"2058-01-01T00:00:00\",\"2059-01-01T00:00:00\",\"2060-01-01T00:00:00\",\"2061-01-01T00:00:00\",\"2062-01-01T00:00:00\",\"2063-01-01T00:00:00\",\"2064-01-01T00:00:00\",\"2065-01-01T00:00:00\",\"2066-01-01T00:00:00\",\"2067-01-01T00:00:00\",\"2068-01-01T00:00:00\",\"2069-01-01T00:00:00\",\"2070-01-01T00:00:00\"],\"xaxis\":\"x\",\"y\":[39.0625,20.328125,27.062501907348633,6.843750953674316,10.445313453674316,39.125003814697266,9.382813453674316,27.820316314697266,17.375,15.515625,44.9140625,18.859376907348633,8.742188453674316,14.000000953674316,17.375,18.59375,8.179688453674316,17.789064407348633,25.656251907348633,17.6875,11.304688453674316,null,null,null,null,null,null,null,null,null],\"yaxis\":\"y\",\"type\":\"bar\"}],                        {\"template\":{\"data\":{\"histogram2dcontour\":[{\"type\":\"histogram2dcontour\",\"colorbar\":{\"outlinewidth\":0,\"ticks\":\"\"},\"colorscale\":[[0.0,\"#0d0887\"],[0.1111111111111111,\"#46039f\"],[0.2222222222222222,\"#7201a8\"],[0.3333333333333333,\"#9c179e\"],[0.4444444444444444,\"#bd3786\"],[0.5555555555555556,\"#d8576b\"],[0.6666666666666666,\"#ed7953\"],[0.7777777777777778,\"#fb9f3a\"],[0.8888888888888888,\"#fdca26\"],[1.0,\"#f0f921\"]]}],\"choropleth\":[{\"type\":\"choropleth\",\"colorbar\":{\"outlinewidth\":0,\"ticks\":\"\"}}],\"histogram2d\":[{\"type\":\"histogram2d\",\"colorbar\":{\"outlinewidth\":0,\"ticks\":\"\"},\"colorscale\":[[0.0,\"#0d0887\"],[0.1111111111111111,\"#46039f\"],[0.2222222222222222,\"#7201a8\"],[0.3333333333333333,\"#9c179e\"],[0.4444444444444444,\"#bd3786\"],[0.5555555555555556,\"#d8576b\"],[0.6666666666666666,\"#ed7953\"],[0.7777777777777778,\"#fb9f3a\"],[0.8888888888888888,\"#fdca26\"],[1.0,\"#f0f921\"]]}],\"heatmap\":[{\"type\":\"heatmap\",\"colorbar\":{\"outlinewidth\":0,\"ticks\":\"\"},\"colorscale\":[[0.0,\"#0d0887\"],[0.1111111111111111,\"#46039f\"],[0.2222222222222222,\"#7201a8\"],[0.3333333333333333,\"#9c179e\"],[0.4444444444444444,\"#bd3786\"],[0.5555555555555556,\"#d8576b\"],[0.6666666666666666,\"#ed7953\"],[0.7777777777777778,\"#fb9f3a\"],[0.8888888888888888,\"#fdca26\"],[1.0,\"#f0f921\"]]}],\"heatmapgl\":[{\"type\":\"heatmapgl\",\"colorbar\":{\"outlinewidth\":0,\"ticks\":\"\"},\"colorscale\":[[0.0,\"#0d0887\"],[0.1111111111111111,\"#46039f\"],[0.2222222222222222,\"#7201a8\"],[0.3333333333333333,\"#9c179e\"],[0.4444444444444444,\"#bd3786\"],[0.5555555555555556,\"#d8576b\"],[0.6666666666666666,\"#ed7953\"],[0.7777777777777778,\"#fb9f3a\"],[0.8888888888888888,\"#fdca26\"],[1.0,\"#f0f921\"]]}],\"contourcarpet\":[{\"type\":\"contourcarpet\",\"colorbar\":{\"outlinewidth\":0,\"ticks\":\"\"}}],\"contour\":[{\"type\":\"contour\",\"colorbar\":{\"outlinewidth\":0,\"ticks\":\"\"},\"colorscale\":[[0.0,\"#0d0887\"],[0.1111111111111111,\"#46039f\"],[0.2222222222222222,\"#7201a8\"],[0.3333333333333333,\"#9c179e\"],[0.4444444444444444,\"#bd3786\"],[0.5555555555555556,\"#d8576b\"],[0.6666666666666666,\"#ed7953\"],[0.7777777777777778,\"#fb9f3a\"],[0.8888888888888888,\"#fdca26\"],[1.0,\"#f0f921\"]]}],\"surface\":[{\"type\":\"surface\",\"colorbar\":{\"outlinewidth\":0,\"ticks\":\"\"},\"colorscale\":[[0.0,\"#0d0887\"],[0.1111111111111111,\"#46039f\"],[0.2222222222222222,\"#7201a8\"],[0.3333333333333333,\"#9c179e\"],[0.4444444444444444,\"#bd3786\"],[0.5555555555555556,\"#d8576b\"],[0.6666666666666666,\"#ed7953\"],[0.7777777777777778,\"#fb9f3a\"],[0.8888888888888888,\"#fdca26\"],[1.0,\"#f0f921\"]]}],\"mesh3d\":[{\"type\":\"mesh3d\",\"colorbar\":{\"outlinewidth\":0,\"ticks\":\"\"}}],\"scatter\":[{\"fillpattern\":{\"fillmode\":\"overlay\",\"size\":10,\"solidity\":0.2},\"type\":\"scatter\"}],\"parcoords\":[{\"type\":\"parcoords\",\"line\":{\"colorbar\":{\"outlinewidth\":0,\"ticks\":\"\"}}}],\"scatterpolargl\":[{\"type\":\"scatterpolargl\",\"marker\":{\"colorbar\":{\"outlinewidth\":0,\"ticks\":\"\"}}}],\"bar\":[{\"error_x\":{\"color\":\"#2a3f5f\"},\"error_y\":{\"color\":\"#2a3f5f\"},\"marker\":{\"line\":{\"color\":\"#E5ECF6\",\"width\":0.5},\"pattern\":{\"fillmode\":\"overlay\",\"size\":10,\"solidity\":0.2}},\"type\":\"bar\"}],\"scattergeo\":[{\"type\":\"scattergeo\",\"marker\":{\"colorbar\":{\"outlinewidth\":0,\"ticks\":\"\"}}}],\"scatterpolar\":[{\"type\":\"scatterpolar\",\"marker\":{\"colorbar\":{\"outlinewidth\":0,\"ticks\":\"\"}}}],\"histogram\":[{\"marker\":{\"pattern\":{\"fillmode\":\"overlay\",\"size\":10,\"solidity\":0.2}},\"type\":\"histogram\"}],\"scattergl\":[{\"type\":\"scattergl\",\"marker\":{\"colorbar\":{\"outlinewidth\":0,\"ticks\":\"\"}}}],\"scatter3d\":[{\"type\":\"scatter3d\",\"line\":{\"colorbar\":{\"outlinewidth\":0,\"ticks\":\"\"}},\"marker\":{\"colorbar\":{\"outlinewidth\":0,\"ticks\":\"\"}}}],\"scattermapbox\":[{\"type\":\"scattermapbox\",\"marker\":{\"colorbar\":{\"outlinewidth\":0,\"ticks\":\"\"}}}],\"scatterternary\":[{\"type\":\"scatterternary\",\"marker\":{\"colorbar\":{\"outlinewidth\":0,\"ticks\":\"\"}}}],\"scattercarpet\":[{\"type\":\"scattercarpet\",\"marker\":{\"colorbar\":{\"outlinewidth\":0,\"ticks\":\"\"}}}],\"carpet\":[{\"aaxis\":{\"endlinecolor\":\"#2a3f5f\",\"gridcolor\":\"white\",\"linecolor\":\"white\",\"minorgridcolor\":\"white\",\"startlinecolor\":\"#2a3f5f\"},\"baxis\":{\"endlinecolor\":\"#2a3f5f\",\"gridcolor\":\"white\",\"linecolor\":\"white\",\"minorgridcolor\":\"white\",\"startlinecolor\":\"#2a3f5f\"},\"type\":\"carpet\"}],\"table\":[{\"cells\":{\"fill\":{\"color\":\"#EBF0F8\"},\"line\":{\"color\":\"white\"}},\"header\":{\"fill\":{\"color\":\"#C8D4E3\"},\"line\":{\"color\":\"white\"}},\"type\":\"table\"}],\"barpolar\":[{\"marker\":{\"line\":{\"color\":\"#E5ECF6\",\"width\":0.5},\"pattern\":{\"fillmode\":\"overlay\",\"size\":10,\"solidity\":0.2}},\"type\":\"barpolar\"}],\"pie\":[{\"automargin\":true,\"type\":\"pie\"}]},\"layout\":{\"autotypenumbers\":\"strict\",\"colorway\":[\"#636efa\",\"#EF553B\",\"#00cc96\",\"#ab63fa\",\"#FFA15A\",\"#19d3f3\",\"#FF6692\",\"#B6E880\",\"#FF97FF\",\"#FECB52\"],\"font\":{\"color\":\"#2a3f5f\"},\"hovermode\":\"closest\",\"hoverlabel\":{\"align\":\"left\"},\"paper_bgcolor\":\"white\",\"plot_bgcolor\":\"#E5ECF6\",\"polar\":{\"bgcolor\":\"#E5ECF6\",\"angularaxis\":{\"gridcolor\":\"white\",\"linecolor\":\"white\",\"ticks\":\"\"},\"radialaxis\":{\"gridcolor\":\"white\",\"linecolor\":\"white\",\"ticks\":\"\"}},\"ternary\":{\"bgcolor\":\"#E5ECF6\",\"aaxis\":{\"gridcolor\":\"white\",\"linecolor\":\"white\",\"ticks\":\"\"},\"baxis\":{\"gridcolor\":\"white\",\"linecolor\":\"white\",\"ticks\":\"\"},\"caxis\":{\"gridcolor\":\"white\",\"linecolor\":\"white\",\"ticks\":\"\"}},\"coloraxis\":{\"colorbar\":{\"outlinewidth\":0,\"ticks\":\"\"}},\"colorscale\":{\"sequential\":[[0.0,\"#0d0887\"],[0.1111111111111111,\"#46039f\"],[0.2222222222222222,\"#7201a8\"],[0.3333333333333333,\"#9c179e\"],[0.4444444444444444,\"#bd3786\"],[0.5555555555555556,\"#d8576b\"],[0.6666666666666666,\"#ed7953\"],[0.7777777777777778,\"#fb9f3a\"],[0.8888888888888888,\"#fdca26\"],[1.0,\"#f0f921\"]],\"sequentialminus\":[[0.0,\"#0d0887\"],[0.1111111111111111,\"#46039f\"],[0.2222222222222222,\"#7201a8\"],[0.3333333333333333,\"#9c179e\"],[0.4444444444444444,\"#bd3786\"],[0.5555555555555556,\"#d8576b\"],[0.6666666666666666,\"#ed7953\"],[0.7777777777777778,\"#fb9f3a\"],[0.8888888888888888,\"#fdca26\"],[1.0,\"#f0f921\"]],\"diverging\":[[0,\"#8e0152\"],[0.1,\"#c51b7d\"],[0.2,\"#de77ae\"],[0.3,\"#f1b6da\"],[0.4,\"#fde0ef\"],[0.5,\"#f7f7f7\"],[0.6,\"#e6f5d0\"],[0.7,\"#b8e186\"],[0.8,\"#7fbc41\"],[0.9,\"#4d9221\"],[1,\"#276419\"]]},\"xaxis\":{\"gridcolor\":\"white\",\"linecolor\":\"white\",\"ticks\":\"\",\"title\":{\"standoff\":15},\"zerolinecolor\":\"white\",\"automargin\":true,\"zerolinewidth\":2},\"yaxis\":{\"gridcolor\":\"white\",\"linecolor\":\"white\",\"ticks\":\"\",\"title\":{\"standoff\":15},\"zerolinecolor\":\"white\",\"automargin\":true,\"zerolinewidth\":2},\"scene\":{\"xaxis\":{\"backgroundcolor\":\"#E5ECF6\",\"gridcolor\":\"white\",\"linecolor\":\"white\",\"showbackground\":true,\"ticks\":\"\",\"zerolinecolor\":\"white\",\"gridwidth\":2},\"yaxis\":{\"backgroundcolor\":\"#E5ECF6\",\"gridcolor\":\"white\",\"linecolor\":\"white\",\"showbackground\":true,\"ticks\":\"\",\"zerolinecolor\":\"white\",\"gridwidth\":2},\"zaxis\":{\"backgroundcolor\":\"#E5ECF6\",\"gridcolor\":\"white\",\"linecolor\":\"white\",\"showbackground\":true,\"ticks\":\"\",\"zerolinecolor\":\"white\",\"gridwidth\":2}},\"shapedefaults\":{\"line\":{\"color\":\"#2a3f5f\"}},\"annotationdefaults\":{\"arrowcolor\":\"#2a3f5f\",\"arrowhead\":0,\"arrowwidth\":1},\"geo\":{\"bgcolor\":\"white\",\"landcolor\":\"#E5ECF6\",\"subunitcolor\":\"white\",\"showland\":true,\"showlakes\":true,\"lakecolor\":\"white\"},\"title\":{\"x\":0.05},\"mapbox\":{\"style\":\"light\"}}},\"xaxis\":{\"anchor\":\"y\",\"domain\":[0.0,1.0],\"title\":{\"text\":\"time\"}},\"yaxis\":{\"anchor\":\"x\",\"domain\":[0.0,1.0],\"title\":{\"text\":\"Precipitation (mm)\"}},\"legend\":{\"tracegroupgap\":0},\"title\":{\"text\":\"Annual maximum precipitation for 3h duration\"},\"barmode\":\"relative\"},                        {\"responsive\": true}                    ).then(function(){\n",
       "                            \n",
       "var gd = document.getElementById('a98d2227-dc57-4b56-bbf9-140ad4f67bee');\n",
       "var x = new MutationObserver(function (mutations, observer) {{\n",
       "        var display = window.getComputedStyle(gd).display;\n",
       "        if (!display || display === 'none') {{\n",
       "            console.log([gd, 'removed!']);\n",
       "            Plotly.purge(gd);\n",
       "            observer.disconnect();\n",
       "        }}\n",
       "}});\n",
       "\n",
       "// Listen for the removal of the full notebook cells\n",
       "var notebookContainer = gd.closest('#notebook-container');\n",
       "if (notebookContainer) {{\n",
       "    x.observe(notebookContainer, {childList: true});\n",
       "}}\n",
       "\n",
       "// Listen for the clearing of the current output cell\n",
       "var outputEl = gd.closest('.output');\n",
       "if (outputEl) {{\n",
       "    x.observe(outputEl, {childList: true});\n",
       "}}\n",
       "\n",
       "                        })                };                });            </script>        </div>"
      ]
     },
     "metadata": {},
     "output_type": "display_data"
    }
   ],
   "source": [
    "# Define specific spatial coordinates within your selected region and the only available duration\n",
    "lat = -11\n",
    "lon = -8\n",
    "dur = 3\n",
    "# Selecting a duration and one specific point.\n",
    "dataarray_pr_max = dataset_pr_max['pr_max'].sel(duration=dur, rlat = lat, rlon = lon, method = 'nearest')\n",
    "dataset_pr_max.close\n",
    "# Converting dataarray to dataframe for plotly library to understand.\n",
    "dataframe_pr_max = dataarray_pr_max.to_dataframe().reset_index()\n",
    "# Define bar chart and customize it.\n",
    "figure = px.bar(dataframe_pr_max, x=\"time\", y=\"pr_max\", title=f'Annual maximum precipitation for {dur}h duration')\n",
    "figure.update_layout(yaxis=dict(title=\"Precipitation (mm)\")) #, range=[10, max(df.precipitation)+5]))\n",
    "figure.show()"
   ]
  },
  {
   "cell_type": "markdown",
   "id": "9d481bce-8981-4805-96bf-8722e3352b93",
   "metadata": {},
   "source": [
    "### Step 2. Probability distribution fitting of annual maxima series\n",
    "The approach consists on trying different probability distributions as to determine which is the one that best represents each pixel's temporal serie of annual maximum precipitation.\n",
    "\n",
    "Probability distributions are imported from the Python library ```scipy```."
   ]
  },
  {
   "cell_type": "code",
   "execution_count": 158,
   "id": "c1ebff4f-b5d1-4081-8c31-7c9c90f7fb36",
   "metadata": {},
   "outputs": [],
   "source": [
    "# Function defined to fit a 1D (for one pixel) temporal series.\n",
    "from scipy.stats import gumbel_r, genextreme, lognorm, pearson3\n",
    "\n",
    "def distribution_fit(ts_max):\n",
    "    n = ts_max.size\n",
    "    # Dict for distribution parameters.\n",
    "    param = {}\n",
    "    # Dict for Kolmogorov-Smirnov statistic.\n",
    "    ks = {}\n",
    "    \n",
    "    # Loop over the usual distributions used in hydrology.\n",
    "    for dist in [gumbel_r, genextreme]:\n",
    "        # Extract estimated parameters\n",
    "        param[dist] = dist.fit(ts_max)\n",
    "        # Goodnes of fit using Kolmogorov-Smirnov test.\n",
    "        test = sst.ks_1samp(ts_max, dist.cdf, param[dist])\n",
    "        # KS statistic\n",
    "        ks[dist] = test[0]\n",
    "    \n",
    "    # Choose distribution with minimum Kolmogorov-Smirnov.\n",
    "    best_fit = min(ks, key=ks.get)\n",
    "\n",
    "    # Check if it's genextreme and the shape parameter makes variance to inf. If so, do fit with other distributions.\n",
    "    if best_fit == genextreme and param[genextreme][0] < -0.4:\n",
    "        # Remove genextreme from the possible distributions.\n",
    "        param.pop(genextreme)\n",
    "        ks.pop(genextreme)\n",
    "        \n",
    "        # Natural logarithm of the temporal series to use Log-Pearson III.\n",
    "        data_log = np.log(ts_max)\n",
    "        \n",
    "        for i, dist in enumerate([pearson3, lognorm]):\n",
    "            if dist == pearson3:\n",
    "                data = data_log\n",
    "            else:\n",
    "                data = ts_max\n",
    "            param[dist] = dist.fit(data)\n",
    "            test = sst.ks_1samp(data, dist.cdf, param[dist])\n",
    "            ks[dist] = test[0]\n",
    "\n",
    "        # Choose the best fitting from the new distributions.    \n",
    "        best_fit = min(ks, key=ks.get)\n",
    "\n",
    "    ### Uncomment the next lines to visualize the fitting.\n",
    "    # distributions = list(param.keys())\n",
    "    # x = np.linspace(0, np.max(ts_max), 100)\n",
    "    # fig, ax = plt.subplots(len(param), 3, figsize=(15, 10))\n",
    "    # for i, dist in enumerate(distributions):\n",
    "    #     if dist == pearson3:\n",
    "    #         data = data_log\n",
    "    #     else:\n",
    "    #         data = ts_max\n",
    "    #     res = sst.probplot(data, dist=dist, sparams=param[dist], plot=ax[i, 0])\n",
    "    #     ax[i, 1].plot(x, dist.cdf(x, *param[dist]))\n",
    "    #     ax[i, 1].hist(data, density=True, cumulative = True)\n",
    "    #     ax[i, 2].plot(x, dist.pdf(x, *param[dist]))\n",
    "    #     ax[i, 2].hist(data, density=True)\n",
    "    \n",
    "    # plt.suptitle(f'Plots for {[f.name for f in distributions]}')\n",
    "    \n",
    "    # print(f'The distribution selected is {best_fit.name}')\n",
    "    return best_fit\n"
   ]
  },
  {
   "cell_type": "markdown",
   "id": "d8eebb01-1e07-448c-8793-a365f128e5d1",
   "metadata": {},
   "source": [
    "For example, we can apply this function to the temporal serie of the selected point:"
   ]
  },
  {
   "cell_type": "code",
   "execution_count": 120,
   "id": "04ba4cde-06b9-4614-91d2-eebbcb5cd908",
   "metadata": {},
   "outputs": [
    {
     "name": "stdout",
     "output_type": "stream",
     "text": [
      "The distribution selected is gumbel_r\n"
     ]
    }
   ],
   "source": [
    "annual_maxima_point = dataarray_pr_max.values\n",
    "distribution_selected = distribution_fit(annual_maxima_point)"
   ]
  },
  {
   "cell_type": "markdown",
   "id": "6e354292-bcfc-4d19-8e96-f5d321453e03",
   "metadata": {},
   "source": [
    "### Step 3. Expected intensities for different return periods\n",
    "Once the probability distribution is selected, the last step is to compute the expected instensities for each duration and return period. Return values and confidence intervals are defined following Chow (Applied Hidrology, 1988)."
   ]
  },
  {
   "cell_type": "code",
   "execution_count": 156,
   "id": "23cc7253-6c30-454a-a936-547b8eb367db",
   "metadata": {},
   "outputs": [],
   "source": [
    "# Code for intensity value and confidence interval.\n",
    "\n",
    "def return_values(ts_max, dist_fit):\n",
    "    # Select distribution (Needed for applying functions to whole region afterwards)\n",
    "    if not dist_fit:\n",
    "        dist_fit = distribution_fit(ts_max)\n",
    "    # Define return years/frequency\n",
    "    frequencies = np.asarray([2,5,10,25,50,100,200,500])\n",
    "    n = ts_max.size\n",
    "    data_log = np.log(ts_max)\n",
    "    # Values and confidence intervals are defined using a frequency factor that varies with each distribution.\n",
    "    # Also for genextreme, lognorm or pearson3 it is necessary to work with logarithmic values.\n",
    "    if dist_fit == gumbel_r:\n",
    "        data = ts_max\n",
    "        freq_factor = -np.sqrt(6) / np.pi * (0.5772 + np.log(np.log(frequencies / (frequencies - 1))))\n",
    "    elif dist_fit == genextreme:\n",
    "        data = data_log\n",
    "        freq_factor = -np.sqrt(6) / np.pi * (0.5772 + np.log(np.log(frequencies / (frequencies - 1))))\n",
    "    elif dist_fit == lognorm:\n",
    "        data = data_log\n",
    "        freq_factor = sst.norm.isf(1 / frequencies)\n",
    "    elif dist_fit == pearson3:\n",
    "        data = data_log\n",
    "        # k and z parameters defined at Chow\n",
    "        k = sst.skew(data)/6\n",
    "        z = sst.norm.isf(1 / frequencies)\n",
    "        z2, z3 = np.power(z, 2), np.power(z, 3)\n",
    "        k_pow = [np.power(k, j) for j in range(1, 6)]\n",
    "        freq_factor = z + (z2 - 1) * k_pow[0] + (z3 - 6 * z) * k_pow[1] / 3 - (z2 - 1) * k_pow[2] + z * k_pow[3] - k_pow[4] / 3\n",
    "    else:\n",
    "        raise Exception(\"Distribution selected has to be: gumbel_r, genextreme, lognorm or pearson3.\")\n",
    "        \n",
    "    # Level of confidence at 95%\n",
    "    normal_level = np.power(1.96, 2)\n",
    "    a = 1 - normal_level / 2 / (n - 1)\n",
    "    b = np.power(freq_factor, 2) - normal_level / n\n",
    "\n",
    "    data_mean = data.mean()\n",
    "    data_std = data.std()\n",
    "    freq_factor_upper = freq_factor + np.sqrt(np.power(freq_factor, 2) - a * b)  # falta divide by a\n",
    "    freq_factor_lower = freq_factor - np.sqrt(np.power(freq_factor, 2) - a * b)\n",
    "    \n",
    "    # return value, ci_lower, ci_upper\n",
    "    return_value = data_mean + freq_factor * data_std\n",
    "    ci = [return_value, data_mean + data_std * freq_factor_lower / a,\n",
    "          data_mean + data_std * freq_factor_upper / a]\n",
    "\n",
    "    if dist_fit != gumbel_r:\n",
    "        ci = np.exp(ci)\n",
    "\n",
    "    ## Code to plot the confidence intervals.\n",
    "    # plt.plot(frequencies, ci[0], frequencies, ci[1], frequencies, ci[2])\n",
    "    # plt.xlabel('Return periods (years)')\n",
    "    # plt.ylabel('Expected intensity per duration (mm)')\n",
    "    # plt.show()\n",
    "    \n",
    "    return np.asarray(ci)"
   ]
  },
  {
   "cell_type": "markdown",
   "id": "23c552df-3a09-4850-b8ae-7272f0041c39",
   "metadata": {},
   "source": [
    "Using our example, we can compute the expected intensities and confidence intervals applying this function:"
   ]
  },
  {
   "cell_type": "code",
   "execution_count": 183,
   "id": "11331228-f197-438b-9e84-95d1b6e2db93",
   "metadata": {},
   "outputs": [],
   "source": [
    "# Uncomment prints and plots in previous cell's to see some output for the next line\n",
    "return_values(dataarray_pr_max.values, distribution_selected);"
   ]
  },
  {
   "cell_type": "markdown",
   "id": "0f698065-f6fd-4dfe-a204-b6ec4bade0d1",
   "metadata": {},
   "source": [
    "### Applying step 2 and 3 to entire region\n",
    "To do this, the function ```apply_along_axis``` is used to easily repeat the previous process to each pixel of the region - that has been previously selected when computing annual maxima files.\n",
    "\n",
    ":::{note}\n",
    "Uncomment previous lines of code reserved to plot graphs and print information to have a cleaner outcome\n",
    ":::"
   ]
  },
  {
   "cell_type": "code",
   "execution_count": 188,
   "id": "1ad7a65e-7537-4181-bf9e-9eb9b6b83476",
   "metadata": {},
   "outputs": [],
   "source": [
    "# Select a duration and open the corresponding .nc file.\n",
    "dur = 3\n",
    "dataset_pr_max = xr.open_dataset(os.path.join(data_dir, f'pr_{dur}h_annual_maximum_2041_2070.nc'),\n",
    "                                 decode_coords='all')\n",
    "\n",
    "# Values of variables pr_max as a numpy ndarray.\n",
    "data = dataset_pr_max['pr_max'].values\n",
    "# Apply return_values function to every pixel. Return a new ndarray.\n",
    "idf_values = np.apply_along_axis(return_values, 1, data, dist_fit = '')\n",
    "\n",
    "# Create a new Dataset with the intensities. Some coordinates are the same as in the original file (lat, lon, duration).\n",
    "idf_dataset = xr.Dataset(\n",
    "            data_vars = {'idf' : (['duration', 'ci_level', 'frequency', 'rlat', 'rlon'], idf_values )},\n",
    "            coords = {'duration': dataset_pr_max.indexes['duration'],\n",
    "                      'ci_level': ['value', 'lower', 'upper'],\n",
    "                      'frequency': np.asarray([2,5,10,25,50,100,200,500]),\n",
    "                      'rlat': dataset_pr_max.indexes['rlat'],\n",
    "                      'rlon': dataset_pr_max.indexes['rlon']\n",
    "                      }\n",
    "            )\n",
    "\n",
    "# Write CRS \n",
    "idf_dataset.rio.write_crs(rotated_pole, inplace=True)\n",
    "\n",
    "# Save as a netCDF file in the results directory.\n",
    "idf_dataset.to_netcdf(os.path.join(results_dir, f'idf_{dur}h_2041_2070.nc'))\n",
    "idf_dataset.close"
   ]
  },
  {
   "cell_type": "markdown",
   "id": "11bc6a89-0157-4cb9-bfaf-11c61aac0a72",
   "metadata": {},
   "source": [
    "## Plot the results\n",
    "Visualize the expected intensity values with a map using the ```matplotlib``` and ```cartopy``` libraries."
   ]
  },
  {
   "cell_type": "code",
   "execution_count": 213,
   "id": "5d506fc2-3342-4277-9aa5-9a3342ee49f1",
   "metadata": {},
   "outputs": [
    {
     "data": {
      "application/vnd.jupyter.widget-view+json": {
       "model_id": "ab85b811b8684c9283e907fc1d558f39",
       "version_major": 2,
       "version_minor": 0
      },
      "text/plain": [
       "HBox(children=(Output(), Dropdown(description='Return period', layout=Layout(flex='1', margin='10px 10px 10px …"
      ]
     },
     "execution_count": 213,
     "metadata": {},
     "output_type": "execute_result"
    }
   ],
   "source": [
    "# Select duration and open the correponding .nc file of intensities.\n",
    "dur = 3\n",
    "idf_dataset = xr.open_dataset(os.path.join(results_dir, f'idf_{dur}h_2041_2070.nc'), decode_coords='all')\n",
    "\n",
    "# Define crs so cartopy understand the coordinates.\n",
    "crs = ccrs.RotatedPole(pole_latitude=39.25, pole_longitude=-162)\n",
    "\n",
    "\n",
    "# Define function to display map\n",
    "def show_map(freq):\n",
    "    fig, ax = plt.subplots(figsize = (12,10), layout=\"constrained\",subplot_kw={'projection': crs})\n",
    "    z_pal = [0., .2, 20, 25, 30, 35, 40, 45, 50, 60., 70., 80, 90., 100., 110, 120., 130, 140]\n",
    "    \n",
    "    pal_rgb = ['#ffffff00', '#d6e2ffff', '#8db2ffff', '#626ff7ff', '#0062ffff', '#019696ff', '#01c634ff',\n",
    "               '#63ff01ff', '#c6ff34ff', '#ffff02ff', '#ffc601ff', '#ffa001ff', '#ff7c00ff', '#ff1901ff', '#a20a28ff',\n",
    "               '#9b159dff', '#d294d3ff', '#f6e9f6ff']\n",
    "    cmap, norm = from_levels_and_colors(z_pal, pal_rgb, extend='max')\n",
    "    \n",
    "    data, lons = add_cyclic_point(idf_dataset['idf'].sel(duration = dur, ci_level = 'value').isel(frequency = freq), \n",
    "                                  coord=idf_dataset['rlon'])\n",
    "    \n",
    "    im=ax.pcolormesh(lons, idf_dataset['rlat'], data,norm = norm ,cmap = cmap)\n",
    "    \n",
    "    ax.set_title(f'Expected intensity for {dur}h for a {frequencies[freq][0]} return period')\n",
    "    \n",
    "    gridlines = ax.gridlines(draw_labels=True)\n",
    "    ax.add_feature(cfeature.COASTLINE)\n",
    "    ax.add_feature(cfeature.BORDERS)\n",
    "    \n",
    "    fig.canvas.header_visible = False\n",
    "    cbar = fig.colorbar(im, ax=ax, orientation='horizontal',shrink = 0.5)  \n",
    "    cbar.set_label('intensity (mm)')\n",
    "\n",
    "    plt.show()\n",
    "\n",
    "\n",
    "from ipywidgets import interactive_output, Dropdown\n",
    "# Define list of tuples for widget dropdown to select frequency map.\n",
    "frequencies = [(f'{freq} years', j) for  j, freq in enumerate(idf_dataset.indexes['frequency'])]\n",
    "freq_widget = Dropdown(\n",
    "    options=frequencies,\n",
    "    value = frequencies[0][1],\n",
    "    rows=8,\n",
    "    description='Return period', \n",
    "    style={'description_width': 'auto'},    \n",
    "    disabled=False,\n",
    "    layout={'flex': '1', 'margin': '10px 10px 10px 30px'}\n",
    ")\n",
    "\n",
    "# Call show_map with the frequency selected.\n",
    "output = interactive_output(show_map, {'freq': freq_widget})\n",
    "# Show selector and output.\n",
    "ipywidgets.HBox([output, freq_widget])"
   ]
  }
 ],
 "metadata": {
  "kernelspec": {
   "display_name": "Python 3 (ipykernel)",
   "language": "python",
   "name": "python3"
  },
  "language_info": {
   "codemirror_mode": {
    "name": "ipython",
    "version": 3
   },
   "file_extension": ".py",
   "mimetype": "text/x-python",
   "name": "python",
   "nbconvert_exporter": "python",
   "pygments_lexer": "ipython3",
   "version": "3.9.2"
  }
 },
 "nbformat": 4,
 "nbformat_minor": 5
}
